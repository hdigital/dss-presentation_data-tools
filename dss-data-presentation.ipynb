{
 "cells": [
  {
   "cell_type": "raw",
   "metadata": {},
   "source": [
    "---\n",
    "title: DSS data tools presentation\n",
    "author: Holger Döring and Wolfgang Zenk-Möltgen\n",
    "date-modified: last-modified\n",
    "jupyter: python3\n",
    "embed-resources: true\n",
    "format:\n",
    "  html:\n",
    "    toc: true\n",
    "---\n"
   ]
  },
  {
   "cell_type": "markdown",
   "metadata": {},
   "source": [
    "## Overview"
   ]
  },
  {
   "attachments": {},
   "cell_type": "markdown",
   "metadata": {},
   "source": [
    "Notes and code snippets for the DSS _data tools_ presentation on 9. Nov. 2023 by Holger and Wolfgang.\n",
    "\n",
    "This is our recently archived work we use as examples.\n",
    "\n",
    "ColStudies – Wolfgang\n",
    "\n",
    "+ <https://github.com/moeltgen/ColStudies>\n",
    "+ <https://zenodo.org/records/8360299>\n",
    "+ DOI [10.5281/zenodo.8360298](https://doi.org/10.5281/zenodo.8360298)\n",
    "\n",
    "ESS linking – Holger\n",
    "\n",
    "+ <https://github.com/hdigital/ess-linking/tree/v0.1>\n",
    "+ <https://zenodo.org/records/8421233>\n",
    "+ DOI [10.5281/zenodo.8421232](https://zenodo.org/doi/10.5281/zenodo.8421232)\n",
    "\n",
    "The _Allbus 2021_ is an example of the GESIS Archive, da|ra, DataCite workflow.\n",
    "\n",
    "+ <https://search.gesis.org/research_data/ZA5280?doi=10.4232/1.14002>\n",
    "+ DOI [10.4232/1.14002](https://doi.org/10.4232/1.14002)\n"
   ]
  },
  {
   "cell_type": "markdown",
   "metadata": {},
   "source": [
    "## Explore DOI APIs\n",
    "\n",
    "A DOI url redirects you to a page of the record.\n",
    "\n",
    "<https://doi.org/10.5281/zenodo.8360298>\n",
    "\n",
    "You can also use the url to get structured data by specifiying a different header."
   ]
  },
  {
   "cell_type": "code",
   "execution_count": 1,
   "metadata": {},
   "outputs": [],
   "source": [
    "import requests\n",
    "\n",
    "doi_url = \"https://doi.org/10.5281/zenodo.8360298\""
   ]
  },
  {
   "cell_type": "markdown",
   "metadata": {},
   "source": [
    "### Formatted text citation"
   ]
  },
  {
   "cell_type": "code",
   "execution_count": 2,
   "metadata": {},
   "outputs": [
    {
     "data": {
      "text/plain": [
       "'Zenk-Möltgen, W. (2023). <i>ColStudies: A web-frontend to Colectica API to register DOIs with da|ra</i> (Version v0.3) [Computer software]. Zenodo. https://doi.org/10.5281/ZENODO.8360298'"
      ]
     },
     "execution_count": 2,
     "metadata": {},
     "output_type": "execute_result"
    }
   ],
   "source": [
    "headers = {\"accept\": \"text/x-bibliography\"}\n",
    "r = requests.get(doi_url, headers=headers)\n",
    "\n",
    "r.text"
   ]
  },
  {
   "cell_type": "markdown",
   "metadata": {},
   "source": [
    "### Citeproc JSON"
   ]
  },
  {
   "cell_type": "code",
   "execution_count": 3,
   "metadata": {},
   "outputs": [
    {
     "data": {
      "text/plain": [
       "{'type': 'book',\n",
       " 'id': 'https://doi.org/10.5281/zenodo.8360298',\n",
       " 'categories': ['DDI, da|ra'],\n",
       " 'author': [{'family': 'Zenk-Möltgen', 'given': 'Wolfgang'}],\n",
       " 'issued': {'date-parts': [[2023, 9, 19]]},\n",
       " 'abstract': 'Basic ColStudies application, connect to Colectica repository, view studies, register DOIs with da|ra.',\n",
       " 'DOI': '10.5281/ZENODO.8360298',\n",
       " 'publisher': 'Zenodo',\n",
       " 'title': 'ColStudies: A web-frontend to Colectica API to register DOIs with da|ra',\n",
       " 'URL': 'https://zenodo.org/record/8360298',\n",
       " 'copyright': 'MIT License',\n",
       " 'version': 'v0.3'}"
      ]
     },
     "execution_count": 3,
     "metadata": {},
     "output_type": "execute_result"
    }
   ],
   "source": [
    "headers = {\"accept\": \"application/vnd.citationstyles.csl+json\"}\n",
    "\n",
    "r = requests.get(doi_url, headers=headers)\n",
    "\n",
    "r.json()"
   ]
  },
  {
   "cell_type": "code",
   "execution_count": 4,
   "metadata": {},
   "outputs": [
    {
     "data": {
      "text/plain": [
       "{'type': 'dataset',\n",
       " 'id': 'https://doi.org/10.4232/1.14002',\n",
       " 'language': 'de',\n",
       " 'author': [{'literal': 'GESIS-Leibniz-Institut Für Sozialwissenschaften'}],\n",
       " 'contributor': [{'family': 'Westle', 'given': 'Bettina'},\n",
       "  {'family': 'Auspurg', 'given': 'Katrin'},\n",
       "  {'family': 'Bühler', 'given': 'Christoph'},\n",
       "  {'family': 'Hadjar', 'given': 'Andreas'},\n",
       "  {'family': 'Hillmert', 'given': 'Steffen'},\n",
       "  {'family': 'Rosar', 'given': 'Ulrich'},\n",
       "  {'family': 'Wagner', 'given': 'Ulrich'},\n",
       "  {'literal': 'Kantar Public, Munich'}],\n",
       " 'issued': {'date-parts': [[2022]]},\n",
       " 'abstract': 'Die Allgemeine Bevölkerungsumfrage der Sozialwissenschaften (ALLBUS) ist eine Trenderhebung, in der seit 1980 alle zwei Jahre eine Zufallsstichprobe der deutschen Bevölkerung befragt wird. Das primäre Ziel des Umfrageprogramms ist die Beobachtung von Einstellungen, Verhalten und sozialen Wandel in Deutschland. Jede ALLBUS-Querschnittserhebung besteht aus ein oder zwei Schwerpunktmodulen zu wechselnden Themen. Diese werden ergänzt durch weitere inhaltliche Fragen und ein Kernmodul mit detaillierten demografischen Informationen. Zudem werden Zusatzinformation zum Interview und den Interviewern bereitgestellt. Die Schwerpunktmodule folgen in der Regel einem 10-jährigen Replikationszyklus, viele Einzelindikatoren und Itembatterien werden aber auch in kürzeren Abständen repliziert. Das Schwerpunktmodul von ALLBUS 2021 befasst sich mit abweichendem Verhalten und Sanktionen. Weiterer Schwerpunkt der Erhebung war die Replikation von Fragen aus einem breiten Themenspektrum. Repliziert wurden u.a. Fragen zu Politik, sozialer Ungleichheit, Geschlechterrollen, Mediennutzung und Gesundheit. ALLBUS 2021 wurde erstmals in einem selbstadministrierten Mixed-Mode Design durchgeführt (MAIL (postalischer Selbstausfüller) und CAWI (Computer-Assisted Web Interview)). Themen: 1.) Mediennutzung:Dauer und Häufigkeit der Fernsehnutzung, Nutzungshäufigkeit von Nachrichtensendungen privater und öffentlich-rechtlicher Fernsehanbieter, Häufigkeit der Lektüre von Tageszeitungen pro Woche, Häufigkeit der Lektüre von Büchern / eBooks, Internetnutzung: Häufigkeit und Geräte, Häufigkeit der Nutzung sozialer Medien für Nachrichten und Politik, Glaubwürdigkeit verschiedener Informationsquellen beim Thema Kriminalität und öffentliche Sicherheit. 2.) Soziale Ungleichheit: Subjektive Schichteinstufung, gerechter Anteil am Lebensstandard, Zugangschancenungleichheit Bildung, Einstellungen zur sozialen Ungleichheit und zum Wohlfahrtsstaat. 3.) Ethnozentrismus und Minoritäten: Einstellungen zum Zuzug verschiedener Personengruppen, Einstellungen zu Ausländern, Kontakte zu Ausländern, antisemitische Vorurteile und Stereotype, Islamophobie, wahrgenommene Risiken und Chancen durch Flüchtlinge. 4.) Familie und Geschlechterrollen: Einstellung zur Erwerbstätigkeit von Vätern und Müttern, Arbeitsteilung mit Partner (Haushalt, Kinder), Erziehungsziele. 5.) Wertorientierungen: Arbeitsorientierungen, Einstellung zu Schwangerschaftsabbruch, Postmaterialismus (Wichtigkeit von Ruhe und Ordnung, Bürgereinfluss, Inflationsbekämpfung und freier Meinungsäußerung). 6.) Politische Einstellungen: Stolz, ein Deutscher zu sein; Vertrauen in öffentliche Einrichtungen und Organisationen: (Gesundheitswesen, Bundesverfassungsgericht, Bundestag, Stadt- und Gemeindeverwaltung, Kirchen, Justiz, Fernsehen, Zeitungswesen, Universitäten, Bundesregierung, Polizei, Parteien, Europäische Kommission, Europäisches Parlament); Verbundenheit mit Gemeinde, Bundesrepublik, EU; Steuersenkung oder Sozialleistungen, Einstellung zur Ausweitung oder Kürzung von Sozialleistungen, perzipierte Stärke von Konflikten zwischen gesellschaftlichen Gruppen, politisches Interesse, Selbsteinstufung auf einem Links-Rechts-Kontinuum, Zufriedenheit mit der Demokratie in Deutschland, Wahlabsicht (Sonntagsfrage). 7.) Abweichendes Verhalten und Sanktionen: Beurteilung der Strafpraxis von Gerichten, Kriminalitätsentwicklung, moralische Bewertung von Verhaltensweisen, deliktspezifisches Sanktionsbedürfnis (Punitivität), Wunsch nach gesetzlichem Verbot (verhaltensspezifisch), Einstellung zur Todesstrafe, selbstberichtete Delinquenz (Vergangenheit, Zukunft), wahrgenommene Entdeckungswahrscheinlichkeit, Viktimisierung (Diebstahl, Straftat), Norm Gesetzstreue, Senkung von Kriminalität durch harte Strafen (Abschreckung), Strafzwecke, Selbstkontrolle (Grasmick), Kriminalitätsfurcht, Sicherheitsgefühl in Wohnumgebung. 8.) Gesundheit: Subjektive Einschätzung des Gesundheitszustands, gesundheitliche Einschränkungen letzte 4 Wochen, Pandemien und Rechte des Staates. 9.) Religion: Religiöse Selbsteinstufung, Konfession, Häufigkeit Kirchgang / Besuch Gotteshaus. 10.) Sonstiges: Beurteilung der derzeitigen und zukünftigen Wirtschaftslage in Deutschland, Beurteilung der eigenen derzeitigen und zukünftigen wirtschaftlichen Situation, sozialer Pessimismus und Zukunftsorientierung (Anomia), interpersonales Vertrauen, subjektive Lebenszufriedenheit. 11.) ALLBUS-Demographie: Angaben zur befragten Person: Geburtsmonat, Geburtsjahr, Alter, Geschlecht, Familienstand, Staatsbürgerschaft (Nationalität), Anzahl der Staatsbürgerschaften, Herkunft, allgemeiner Schulabschluss, berufliche Ausbildung, Erwerbsstatus, Angaben zum gegenwärtigen bzw. früheren Beruf, Zugehörigkeit zum öffentlichen Dienst, wöchentliche Arbeitsdauer (Haupt- und Nebenerwerb), berufliche Aufsichtsfunktion, Furcht vor Verlust des Arbeitsplatzes, Dauer von Arbeitslosigkeit, Status der Nichterwerbstätigkeit, Zeitpunkt der Aufgabe hauptberuflicher Erwerbstätigkeit, jetzige oder frühere Gewerkschaftsmitgliedschaft, Mitgliedschaft in einer politischen Partei, monatliches Nettoeinkommen.Wohnort (Bundesland, politische Gemeindegröße, BIK-Stadtregion), Wohndauer in Deutschland, Wohndauer am Wohnort, Wohnstatus, Entfernung zum vorherigen Wohnort, Mobilitätsbereitschaft. Angaben zum Ehepartner: Geburtsmonat, Geburtsjahr, Alter, allgemeiner Schulabschluss, berufliche Ausbildung, Erwerbstätigkeit (incl. Nichterwerbsstatus), Angaben zum gegenwärtigen Beruf, Zugehörigkeit zum öffentlichen Dienst. Angaben zum nichtehelichen Lebenspartner: Geburtsmonat, Geburtsjahr, Alter, allgemeiner Schulabschluss, berufliche Ausbildung, Erwerbstätigkeit (incl. Nichterwerbsstatus), Angaben zum gegenwärtigen Beruf, Zugehörigkeit zum öffentlichen Dienst, gemeinsamer Haushalt mit befragter Person. Angaben zu den Eltern: Herkunftsland, Zusammenleben mit Eltern im Alter von 15 Jahren, allgemeiner Schulabschluss, berufliche Ausbildung, Angaben zum Beruf. Haushaltsbeschreibung: Haushaltsgröße, Haushaltseinkommen, Anzahl von über 17-jährigen Haushaltspersonen (reduzierte Haushaltsgröße). Angaben zu den einzelnen Haushaltspersonen (Haushaltsliste): Verwandtschaftsverhältnis zur befragten Person, Geschlecht, Geburtsmonat, Geburtsjahr, Alter, Familienstand. Angaben zu Kindern außerhalb des Haushalts: Zahl der Kinder außer Haus, Geschlecht, Geburtsjahr, Alter. 12.) Daten zum Interview (Paradaten): Studiennummer, Digital Object Identifier, Release, Identifikationsnummer des Befragten, Nummer des Samplepoints, Erhebungsmodus ALLBUS-Hauptbefragung, Zahl der Kontaktversuche, Anteil beantworteter Fragen, Datum Interviewbeginn und –ende, Interviewdauer, Anwesenheit weiterer Personen während des Interviews, Eingriff anderer Personen in die Beantwortung des Fragebogens, Unterbrechung der Bearbeitung des Fragebogens. 13.) Ergänzungen und abgeleitete Variablen: Postmaterialismus-Index (nach Inglehart), Berufsvercodung gemäß ISCO (International Standard Classification of Occupations) 1988 und 2008, SIOPS (nach Ganzeboom), ISEI (nach Ganzeboom), Sozioökonomische Gruppe (ESeG), ISCED (International Standard Classification of Education) 1997 und 2011, Lebensformen und Familiensituation, Transformationsgewicht für Auswertungen auf Haushaltsebene, Ost-West-Gewicht für gesamtdeutsche Auswertungen.',\n",
       " 'DOI': '10.4232/1.14002',\n",
       " 'publisher': 'GESIS',\n",
       " 'title': 'Allgemeine Bevölkerungsumfrage der Sozialwissenschaften ALLBUS 2021',\n",
       " 'URL': 'https://search.gesis.org/research_data/ZA5280?doi=10.4232/1.14002',\n",
       " 'copyright': 'Alle im GESIS DBK veröffentlichten Metadaten sind frei verfügbar unter den Creative Commons CC0 1.0 Universal Public Domain Dedication. GESIS bittet jedoch darum, dass Sie alle Metadatenquellen anerkennen und sie nennen, etwa die Datengeber oder jeglichen Aggregator, inklusive GESIS selbst. Für weitere Informationen siehe https://dbk.gesis.org/dbksearch/guidelines.asp?db=d',\n",
       " 'version': '2.0.0'}"
      ]
     },
     "execution_count": 4,
     "metadata": {},
     "output_type": "execute_result"
    }
   ],
   "source": [
    "r = requests.get(\"https://doi.org/10.4232/1.14002\", headers=headers)\n",
    "\n",
    "r.json()"
   ]
  },
  {
   "cell_type": "markdown",
   "metadata": {},
   "source": [
    "## Crosscite DOI APIs\n",
    "\n",
    "<https://citation.crosscite.org/docs.html#sec-4>\n",
    "\n",
    "> \"Currently three DOI registration agencies have implemented content negotation for their DOIs: Crossref, DataCite and mEDRA. They support a number of metadata content types, some of which are common to the three RAs.\"\n",
    "\n",
    "- Formatted text citation // `text/x-bibliography`\n",
    "- BibTeX // `application/x-bibtex`\n",
    "- RIS // `application/x-research-info-systems`\n",
    "- Citeproc JSON // `application/vnd.citationstyles.csl+json`\n",
    "- Schema.org in JSON-LD // `application/vnd.schemaorg.ld+json` (only DataCite)\n"
   ]
  },
  {
   "cell_type": "code",
   "execution_count": 5,
   "metadata": {},
   "outputs": [
    {
     "name": "stdout",
     "output_type": "stream",
     "text": [
      "## DOI content type: bibliography\n",
      "\n",
      "Bederke, P., &amp; Döring, H. (2023). <i>Harmonizing and linking party information: The ESS as an example of complex data linking</i> (Version v0.1) [Computer software]. Zenodo. https://doi.org/10.5281/ZENODO.8421232\n",
      "\n",
      "\n",
      "## DOI content type: bibtex\n",
      "\n",
      "@misc{https://doi.org/10.5281/zenodo.8421232,\n",
      "  doi = {10.5281/ZENODO.8421232},\n",
      "  url = {https://zenodo.org/record/8421232},\n",
      "  author = {Bederke, Paul and Döring, Holger},\n",
      "  keywords = {comparative politics, data management, survey data, voting behavior, expert surveys, validation},\n",
      "  title = {Harmonizing and linking party information: The ESS as an example of complex data linking},\n",
      "  publisher = {Zenodo},\n",
      "  year = {2023},\n",
      "  copyright = {Open Access}\n",
      "}\n",
      "\n",
      "\n",
      "\n",
      "## DOI content type: ris\n",
      "\n",
      "TY  - COMP\n",
      "T1  - Harmonizing and linking party information: The ESS as an example of complex data linking\n",
      "AU  - Bederke, Paul\n",
      "AU  - Döring, Holger\n",
      "DO  - 10.5281/ZENODO.8421232\n",
      "UR  - https://zenodo.org/record/8421232\n",
      "AB  - Combining party information from multiple sources is a work-intensive challenge for quantitative studies of political representation. Differences in the definition of political parties and difficult data structures can make linking party information across datasets challenging. The European Social Survey (ESS) is an example of a prominent data source in political science research whose party information is particularly difficult to work with. Here, we demonstrate how Party Facts, an online infrastructure for combining party information, can be used to link different social science datasets and assess the performance of the linking process. In this article, we discuss the difficulties of complex linking tasks and show how the ESS can be combined with other sources. We have updated the database to include appropriate links for the recent Round 10 of the ESS and provide two examples of complex linking by combining the ESS with the Chapel Hill Expert Survey (CHES) and with the Parliament and Government Database (ParlGov).\n",
      "KW  - comparative politics\n",
      "KW  - data management\n",
      "KW  - survey data\n",
      "KW  - voting behavior\n",
      "KW  - expert surveys\n",
      "KW  - validation\n",
      "PY  - 2023\n",
      "PB  - Zenodo\n",
      "ER  - \n",
      "\n",
      "\n",
      "## DOI content type: json-csl\n",
      "\n",
      "{\n",
      "  \"type\": \"book\",\n",
      "  \"id\": \"https://doi.org/10.5281/zenodo.8421232\",\n",
      "  \"categories\": [\n",
      "    \"comparative politics\",\n",
      "    \"data management\",\n",
      "    \"survey data\",\n",
      "    \"voting behavior\",\n",
      "    \"expert surveys\",\n",
      "    \"validation\"\n",
      "  ],\n",
      "  \"author\": [\n",
      "    {\n",
      "      \"family\": \"Bederke\",\n",
      "      \"given\": \"Paul\"\n",
      "    },\n",
      "    {\n",
      "      \"family\": \"Döring\",\n",
      "      \"given\": \"Holger\"\n",
      "    }\n",
      "  ],\n",
      "  \"issued\": {\n",
      "    \"date-parts\": [\n",
      "      [\n",
      "        2023,\n",
      "        10,\n",
      "        9\n",
      "      ]\n",
      "    ]\n",
      "  },\n",
      "  \"abstract\": \"Combining party information from multiple sources is a work-intensive challenge for quantitative studies of political representation. Differences in the definition of political parties and difficult data structures can make linking party information across datasets challenging. The European Social Survey (ESS) is an example of a prominent data source in political science research whose party information is particularly difficult to work with. Here, we demonstrate how Party Facts, an online infrastructure for combining party information, can be used to link different social science datasets and assess the performance of the linking process. In this article, we discuss the difficulties of complex linking tasks and show how the ESS can be combined with other sources. We have updated the database to include appropriate links for the recent Round 10 of the ESS and provide two examples of complex linking by combining the ESS with the Chapel Hill Expert Survey (CHES) and with the Parliament and Government Database (ParlGov).\",\n",
      "  \"DOI\": \"10.5281/ZENODO.8421232\",\n",
      "  \"publisher\": \"Zenodo\",\n",
      "  \"title\": \"Harmonizing and linking party information: The ESS as an example of complex data linking\",\n",
      "  \"URL\": \"https://zenodo.org/record/8421232\",\n",
      "  \"copyright\": \"Open Access\",\n",
      "  \"version\": \"v0.1\"\n",
      "}\n",
      "\n",
      "\n",
      "## DOI content type: json-schema\n",
      "\n",
      "{\n",
      "  \"@context\": \"http://schema.org\",\n",
      "  \"@type\": \"SoftwareSourceCode\",\n",
      "  \"@id\": \"https://doi.org/10.5281/zenodo.8421232\",\n",
      "  \"identifier\": {\n",
      "    \"@type\": \"PropertyValue\",\n",
      "    \"propertyID\": \"URL\",\n",
      "    \"value\": \"https://zenodo.org/record/8421233\"\n",
      "  },\n",
      "  \"url\": \"https://zenodo.org/record/8421232\",\n",
      "  \"name\": \"Harmonizing and linking party information: The ESS as an example of complex data linking\",\n",
      "  \"author\": [\n",
      "    {\n",
      "      \"name\": \"Paul Bederke\",\n",
      "      \"givenName\": \"Paul\",\n",
      "      \"familyName\": \"Bederke\",\n",
      "      \"affiliation\": {\n",
      "        \"@type\": \"Organization\",\n",
      "        \"name\": \"University of Konstanz, Germany\"\n",
      "      },\n",
      "      \"@type\": \"Person\",\n",
      "      \"@id\": \"https://orcid.org/0000-0001-7555-8656\"\n",
      "    },\n",
      "    {\n",
      "      \"name\": \"Holger Döring\",\n",
      "      \"givenName\": \"Holger\",\n",
      "      \"familyName\": \"Döring\",\n",
      "      \"affiliation\": {\n",
      "        \"@type\": \"Organization\",\n",
      "        \"name\": \"GESIS – Leibniz Institute for the Social Sciences, Germany\"\n",
      "      },\n",
      "      \"@type\": \"Person\",\n",
      "      \"@id\": \"https://orcid.org/0000-0002-6616-8805\"\n",
      "    }\n",
      "  ],\n",
      "  \"description\": \"Combining party information from multiple sources is a work-intensive challenge for quantitative studies of political representation. Differences in the definition of political parties and difficult data structures can make linking party information across datasets challenging. The European Social Survey (ESS) is an example of a prominent data source in political science research whose party information is particularly difficult to work with. Here, we demonstrate how Party Facts, an online infrastructure for combining party information, can be used to link different social science datasets and assess the performance of the linking process. In this article, we discuss the difficulties of complex linking tasks and show how the ESS can be combined with other sources. We have updated the database to include appropriate links for the recent Round 10 of the ESS and provide two examples of complex linking by combining the ESS with the Chapel Hill Expert Survey (CHES) and with the Parliament and Government Database (ParlGov).\",\n",
      "  \"license\": \"info:eu-repo/semantics/openAccess\",\n",
      "  \"version\": \"v0.1\",\n",
      "  \"keywords\": \"comparative politics, data management, survey data, voting behavior, expert surveys, validation\",\n",
      "  \"datePublished\": \"2023-10-09\",\n",
      "  \"@reverse\": {\n",
      "    \"isBasedOn\": {\n",
      "      \"@type\": \"ScholarlyArticle\",\n",
      "      \"identifier\": {\n",
      "        \"@type\": \"PropertyValue\",\n",
      "        \"propertyID\": \"URL\",\n",
      "        \"value\": \"https://github.com/hdigital/ess-linking/tree/v0.1\"\n",
      "      }\n",
      "    }\n",
      "  },\n",
      "  \"schemaVersion\": \"http://datacite.org/schema/kernel-4\",\n",
      "  \"publisher\": {\n",
      "    \"@type\": \"Organization\",\n",
      "    \"name\": \"Zenodo\"\n",
      "  },\n",
      "  \"provider\": {\n",
      "    \"@type\": \"Organization\",\n",
      "    \"name\": \"datacite\"\n",
      "  }\n",
      "}\n",
      "\n",
      "\n"
     ]
    }
   ],
   "source": [
    "import time\n",
    "import requests\n",
    "\n",
    "CONTENT_TYPES = {\n",
    "    \"bibliography\": \"text/x-bibliography\",\n",
    "    \"bibtex\": \"application/x-bibtex\",\n",
    "    \"ris\": \"application/x-research-info-systems\",\n",
    "    \"json-csl\": \"application/vnd.citationstyles.csl+json\",\n",
    "    \"json-schema\": \"application/vnd.schemaorg.ld+json\",\n",
    "}\n",
    "\n",
    "\n",
    "def get_doi_data(doi, content_type=\"bibliography\"):\n",
    "    \"\"\"Return metadata for DOI.\"\"\"\n",
    "\n",
    "    url = f\"https://doi.org/{doi}\"\n",
    "    headers = {\"accept\": CONTENT_TYPES[content_type]}\n",
    "\n",
    "    return requests.get(url, headers=headers)\n",
    "\n",
    "\n",
    "doi = \"10.5281/zenodo.8421232\"\n",
    "\n",
    "for key in CONTENT_TYPES:\n",
    "    time.sleep(2)  # pause to avoid requests limit\n",
    "    doi_request = get_doi_data(doi, key)\n",
    "    print(f\"## DOI content type: {key}\\n\\n{doi_request.text}\\n\\n\")\n",
    "\n",
    "## DataCite API\n",
    "\n",
    "<https://support.datacite.org/docs/api-get-doi>\n"
   ]
  },
  {
   "cell_type": "markdown",
   "metadata": {},
   "source": [
    "## DataCite API\n",
    "\n",
    "<https://support.datacite.org/docs/api-get-doi>"
   ]
  },
  {
   "cell_type": "markdown",
   "metadata": {},
   "source": [
    "### Zenodo record\n",
    "\n",
    "Zenodo uses [DataCite](https://datacite.org/) for DOI registration.\n",
    "\n",
    "Let's briefly explore the DataCite API."
   ]
  },
  {
   "cell_type": "code",
   "execution_count": 6,
   "metadata": {},
   "outputs": [
    {
     "data": {
      "text/plain": [
       "{'data': {'id': '10.5281/zenodo.8360298',\n",
       "  'type': 'dois',\n",
       "  'attributes': {'doi': '10.5281/zenodo.8360298',\n",
       "   'prefix': '10.5281',\n",
       "   'suffix': 'zenodo.8360298',\n",
       "   'identifiers': [{'identifier': 'https://zenodo.org/record/8360299',\n",
       "     'identifierType': 'URL'}],\n",
       "   'alternateIdentifiers': [{'alternateIdentifierType': 'URL',\n",
       "     'alternateIdentifier': 'https://zenodo.org/record/8360299'}],\n",
       "   'creators': [{'name': 'Zenk-Möltgen, Wolfgang',\n",
       "     'nameType': 'Personal',\n",
       "     'givenName': 'Wolfgang',\n",
       "     'familyName': 'Zenk-Möltgen',\n",
       "     'affiliation': ['GESIS'],\n",
       "     'nameIdentifiers': []}],\n",
       "   'titles': [{'title': 'ColStudies: A web-frontend to Colectica API to register DOIs with da|ra'}],\n",
       "   'publisher': 'Zenodo',\n",
       "   'container': {},\n",
       "   'publicationYear': 2023,\n",
       "   'subjects': [{'subject': 'DDI, da|ra'}],\n",
       "   'contributors': [],\n",
       "   'dates': [{'date': '2023-09-19', 'dateType': 'Issued'}],\n",
       "   'language': None,\n",
       "   'types': {'ris': 'COMP',\n",
       "    'bibtex': 'misc',\n",
       "    'citeproc': 'article',\n",
       "    'schemaOrg': 'SoftwareSourceCode',\n",
       "    'resourceTypeGeneral': 'Software'},\n",
       "   'relatedIdentifiers': [{'relationType': 'IsSupplementTo',\n",
       "     'relatedIdentifier': 'https://github.com/moeltgen/ColStudies/tree/v0.3',\n",
       "     'relatedIdentifierType': 'URL'},\n",
       "    {'relationType': 'HasVersion',\n",
       "     'relatedIdentifier': '10.5281/zenodo.8360299',\n",
       "     'relatedIdentifierType': 'DOI'}],\n",
       "   'relatedItems': [],\n",
       "   'sizes': [],\n",
       "   'formats': [],\n",
       "   'version': 'v0.3',\n",
       "   'rightsList': [{'rights': 'MIT License',\n",
       "     'rightsUri': 'https://opensource.org/licenses/MIT',\n",
       "     'schemeUri': 'https://spdx.org/licenses/',\n",
       "     'rightsIdentifier': 'mit',\n",
       "     'rightsIdentifierScheme': 'SPDX'},\n",
       "    {'rights': 'Open Access',\n",
       "     'rightsUri': 'info:eu-repo/semantics/openAccess'}],\n",
       "   'descriptions': [{'description': 'Basic ColStudies application, connect to Colectica repository, view studies, register DOIs with da|ra.',\n",
       "     'descriptionType': 'Abstract'}],\n",
       "   'geoLocations': [],\n",
       "   'fundingReferences': [],\n",
       "   'xml': 'PD94bWwgdmVyc2lvbj0iMS4wIiBlbmNvZGluZz0idXRmLTgiPz4KPHJlc291cmNlIHhtbG5zOnhzaT0iaHR0cDovL3d3dy53My5vcmcvMjAwMS9YTUxTY2hlbWEtaW5zdGFuY2UiIHhtbG5zPSJodHRwOi8vZGF0YWNpdGUub3JnL3NjaGVtYS9rZXJuZWwtNCIgeHNpOnNjaGVtYUxvY2F0aW9uPSJodHRwOi8vZGF0YWNpdGUub3JnL3NjaGVtYS9rZXJuZWwtNCBodHRwOi8vc2NoZW1hLmRhdGFjaXRlLm9yZy9tZXRhL2tlcm5lbC00LjEvbWV0YWRhdGEueHNkIj4KICA8aWRlbnRpZmllciBpZGVudGlmaWVyVHlwZT0iRE9JIj4xMC41MjgxL1pFTk9ETy44MzYwMjk4PC9pZGVudGlmaWVyPgogIDxjcmVhdG9ycz4KICAgIDxjcmVhdG9yPgogICAgICA8Y3JlYXRvck5hbWU+V29sZmdhbmcgWmVuay1Nw7ZsdGdlbjwvY3JlYXRvck5hbWU+CiAgICAgIDxhZmZpbGlhdGlvbj5HRVNJUzwvYWZmaWxpYXRpb24+CiAgICA8L2NyZWF0b3I+CiAgPC9jcmVhdG9ycz4KICA8dGl0bGVzPgogICAgPHRpdGxlPkNvbFN0dWRpZXM6IEEgd2ViLWZyb250ZW5kIHRvIENvbGVjdGljYSBBUEkgdG8gcmVnaXN0ZXIgRE9JcyB3aXRoIGRhfHJhPC90aXRsZT4KICA8L3RpdGxlcz4KICA8cHVibGlzaGVyPlplbm9kbzwvcHVibGlzaGVyPgogIDxwdWJsaWNhdGlvblllYXI+MjAyMzwvcHVibGljYXRpb25ZZWFyPgogIDxzdWJqZWN0cz4KICAgIDxzdWJqZWN0PkRESSwgZGF8cmE8L3N1YmplY3Q+CiAgPC9zdWJqZWN0cz4KICA8ZGF0ZXM+CiAgICA8ZGF0ZSBkYXRlVHlwZT0iSXNzdWVkIj4yMDIzLTA5LTE5PC9kYXRlPgogIDwvZGF0ZXM+CiAgPHJlc291cmNlVHlwZSByZXNvdXJjZVR5cGVHZW5lcmFsPSJTb2Z0d2FyZSIvPgogIDxhbHRlcm5hdGVJZGVudGlmaWVycz4KICAgIDxhbHRlcm5hdGVJZGVudGlmaWVyIGFsdGVybmF0ZUlkZW50aWZpZXJUeXBlPSJ1cmwiPmh0dHBzOi8vemVub2RvLm9yZy9yZWNvcmQvODM2MDI5OTwvYWx0ZXJuYXRlSWRlbnRpZmllcj4KICA8L2FsdGVybmF0ZUlkZW50aWZpZXJzPgogIDxyZWxhdGVkSWRlbnRpZmllcnM+CiAgICA8cmVsYXRlZElkZW50aWZpZXIgcmVsYXRlZElkZW50aWZpZXJUeXBlPSJVUkwiIHJlbGF0aW9uVHlwZT0iSXNTdXBwbGVtZW50VG8iPmh0dHBzOi8vZ2l0aHViLmNvbS9tb2VsdGdlbi9Db2xTdHVkaWVzL3RyZWUvdjAuMzwvcmVsYXRlZElkZW50aWZpZXI+CiAgICA8cmVsYXRlZElkZW50aWZpZXIgcmVsYXRlZElkZW50aWZpZXJUeXBlPSJET0kiIHJlbGF0aW9uVHlwZT0iSGFzVmVyc2lvbiI+MTAuNTI4MS96ZW5vZG8uODM2MDI5OTwvcmVsYXRlZElkZW50aWZpZXI+CiAgPC9yZWxhdGVkSWRlbnRpZmllcnM+CiAgPHZlcnNpb24+djAuMzwvdmVyc2lvbj4KICA8cmlnaHRzTGlzdD4KICAgIDxyaWdodHMgcmlnaHRzVVJJPSJodHRwczovL29wZW5zb3VyY2Uub3JnL2xpY2Vuc2VzL01JVCI+TUlUIExpY2Vuc2U8L3JpZ2h0cz4KICAgIDxyaWdodHMgcmlnaHRzVVJJPSJpbmZvOmV1LXJlcG8vc2VtYW50aWNzL29wZW5BY2Nlc3MiPk9wZW4gQWNjZXNzPC9yaWdodHM+CiAgPC9yaWdodHNMaXN0PgogIDxkZXNjcmlwdGlvbnM+CiAgICA8ZGVzY3JpcHRpb24gZGVzY3JpcHRpb25UeXBlPSJBYnN0cmFjdCI+Jmx0O3AmZ3Q7QmFzaWMgQ29sU3R1ZGllcyBhcHBsaWNhdGlvbiwgY29ubmVjdCB0byBDb2xlY3RpY2EgcmVwb3NpdG9yeSwgdmlldyBzdHVkaWVzLCByZWdpc3RlciBET0lzIHdpdGggZGF8cmEuJmx0Oy9wJmd0OzwvZGVzY3JpcHRpb24+CiAgPC9kZXNjcmlwdGlvbnM+CjwvcmVzb3VyY2U+',\n",
       "   'url': 'https://zenodo.org/record/8360298',\n",
       "   'contentUrl': None,\n",
       "   'metadataVersion': 2,\n",
       "   'schemaVersion': 'http://datacite.org/schema/kernel-4',\n",
       "   'source': 'mds',\n",
       "   'isActive': True,\n",
       "   'state': 'findable',\n",
       "   'reason': None,\n",
       "   'viewCount': 0,\n",
       "   'viewsOverTime': [],\n",
       "   'downloadCount': 0,\n",
       "   'downloadsOverTime': [],\n",
       "   'referenceCount': 0,\n",
       "   'citationCount': 1,\n",
       "   'citationsOverTime': [{'year': '2023', 'total': 1}],\n",
       "   'partCount': 0,\n",
       "   'partOfCount': 0,\n",
       "   'versionCount': 1,\n",
       "   'versionOfCount': 0,\n",
       "   'created': '2023-09-19T15:15:25.000Z',\n",
       "   'registered': '2023-09-19T15:15:26.000Z',\n",
       "   'published': '2023',\n",
       "   'updated': '2023-09-19T15:28:57.000Z'},\n",
       "  'relationships': {'client': {'data': {'id': 'cern.zenodo',\n",
       "     'type': 'clients'}},\n",
       "   'provider': {'data': {'id': 'cern', 'type': 'providers'}},\n",
       "   'media': {'data': {'id': '10.5281/zenodo.8360298', 'type': 'media'}},\n",
       "   'references': {'data': []},\n",
       "   'citations': {'data': []},\n",
       "   'parts': {'data': []},\n",
       "   'partOf': {'data': []},\n",
       "   'versions': {'data': [{'id': '10.5281/zenodo.8360299', 'type': 'dois'}]},\n",
       "   'versionOf': {'data': []}}}}"
      ]
     },
     "execution_count": 6,
     "metadata": {},
     "output_type": "execute_result"
    }
   ],
   "source": [
    "doi = \"10.5281/zenodo.8360298\"\n",
    "r = requests.get(f\"https://api.datacite.org/dois/{doi}\")\n",
    "r.json()"
   ]
  },
  {
   "cell_type": "markdown",
   "metadata": {},
   "source": [
    "A dataset registered with DataCite through [da|ra](https://www.da-ra.de/)."
   ]
  },
  {
   "cell_type": "code",
   "execution_count": 7,
   "metadata": {},
   "outputs": [
    {
     "data": {
      "text/plain": [
       "{'data': {'id': '10.4232/1.14002',\n",
       "  'type': 'dois',\n",
       "  'attributes': {'doi': '10.4232/1.14002',\n",
       "   'prefix': '10.4232',\n",
       "   'suffix': '1.14002',\n",
       "   'identifiers': [{'identifier': 'ZA5280', 'identifierType': 'ZA-No.'},\n",
       "    {'identifier': 'ALLBUS', 'identifierType': 'FDZ'}],\n",
       "   'alternateIdentifiers': [{'alternateIdentifierType': 'ZA-No.',\n",
       "     'alternateIdentifier': 'ZA5280'},\n",
       "    {'alternateIdentifierType': 'FDZ', 'alternateIdentifier': 'ALLBUS'}],\n",
       "   'creators': [{'name': 'GESIS-Leibniz-Institut Für Sozialwissenschaften',\n",
       "     'nameType': 'Organizational',\n",
       "     'affiliation': [],\n",
       "     'nameIdentifiers': []}],\n",
       "   'titles': [{'lang': 'de',\n",
       "     'title': 'Allgemeine Bevölkerungsumfrage der Sozialwissenschaften ALLBUS 2021'},\n",
       "    {'lang': 'en',\n",
       "     'title': 'ALLBUS/GGSS 2021 (Allgemeine Bevölkerungsumfrage der Sozialwissenschaften/German General Social Survey 2021)'}],\n",
       "   'publisher': 'GESIS',\n",
       "   'container': {},\n",
       "   'publicationYear': 2022,\n",
       "   'subjects': [],\n",
       "   'contributors': [{'name': 'Westle, Bettina',\n",
       "     'nameType': 'Personal',\n",
       "     'givenName': 'Bettina',\n",
       "     'familyName': 'Westle',\n",
       "     'affiliation': ['Universität Marburg'],\n",
       "     'contributorType': 'Researcher',\n",
       "     'nameIdentifiers': []},\n",
       "    {'name': 'Auspurg, Katrin',\n",
       "     'nameType': 'Personal',\n",
       "     'givenName': 'Katrin',\n",
       "     'familyName': 'Auspurg',\n",
       "     'affiliation': ['LMU München'],\n",
       "     'contributorType': 'Researcher',\n",
       "     'nameIdentifiers': []},\n",
       "    {'name': 'Bühler, Christoph',\n",
       "     'nameType': 'Personal',\n",
       "     'givenName': 'Christoph',\n",
       "     'familyName': 'Bühler',\n",
       "     'affiliation': ['Universität Hannover'],\n",
       "     'contributorType': 'Researcher',\n",
       "     'nameIdentifiers': []},\n",
       "    {'name': 'Hadjar, Andreas',\n",
       "     'nameType': 'Personal',\n",
       "     'givenName': 'Andreas',\n",
       "     'familyName': 'Hadjar',\n",
       "     'affiliation': ['Universität Luxemburg'],\n",
       "     'contributorType': 'Researcher',\n",
       "     'nameIdentifiers': []},\n",
       "    {'name': 'Hillmert, Steffen',\n",
       "     'nameType': 'Personal',\n",
       "     'givenName': 'Steffen',\n",
       "     'familyName': 'Hillmert',\n",
       "     'affiliation': ['Universität Tübingen'],\n",
       "     'contributorType': 'Researcher',\n",
       "     'nameIdentifiers': []},\n",
       "    {'name': 'Rosar, Ulrich',\n",
       "     'nameType': 'Personal',\n",
       "     'givenName': 'Ulrich',\n",
       "     'familyName': 'Rosar',\n",
       "     'affiliation': ['Universität Düsseldorf'],\n",
       "     'contributorType': 'Researcher',\n",
       "     'nameIdentifiers': []},\n",
       "    {'name': 'Wagner, Ulrich',\n",
       "     'nameType': 'Personal',\n",
       "     'givenName': 'Ulrich',\n",
       "     'familyName': 'Wagner',\n",
       "     'affiliation': ['Universität Marburg'],\n",
       "     'contributorType': 'Researcher',\n",
       "     'nameIdentifiers': []},\n",
       "    {'name': 'Kantar Public, Munich',\n",
       "     'nameType': 'Organizational',\n",
       "     'affiliation': [],\n",
       "     'contributorType': 'DataCollector',\n",
       "     'nameIdentifiers': []}],\n",
       "   'dates': [{'date': '2021-06/2021-08', 'dateType': 'Collected'},\n",
       "    {'date': '2022', 'dateType': 'Issued'}],\n",
       "   'language': 'de',\n",
       "   'types': {'ris': 'DATA',\n",
       "    'bibtex': 'misc',\n",
       "    'citeproc': 'dataset',\n",
       "    'schemaOrg': 'Dataset',\n",
       "    'resourceType': 'NumerischNumeric',\n",
       "    'resourceTypeGeneral': 'Dataset'},\n",
       "   'relatedIdentifiers': [{'relationType': 'IsNewVersionOf',\n",
       "     'relatedIdentifier': '10.4232/1.13954',\n",
       "     'relatedIdentifierType': 'DOI'}],\n",
       "   'relatedItems': [],\n",
       "   'sizes': [],\n",
       "   'formats': [],\n",
       "   'version': '2.0.0',\n",
       "   'rightsList': [{'lang': 'de',\n",
       "     'rights': 'Alle im GESIS DBK veröffentlichten Metadaten sind frei verfügbar unter den Creative Commons CC0 1.0 Universal Public Domain Dedication. GESIS bittet jedoch darum, dass Sie alle Metadatenquellen anerkennen und sie nennen, etwa die Datengeber oder jeglichen Aggregator, inklusive GESIS selbst. Für weitere Informationen siehe https://dbk.gesis.org/dbksearch/guidelines.asp?db=d'},\n",
       "    {'lang': 'en',\n",
       "     'rights': 'All metadata from GESIS DBK are available free of restriction under the Creative Commons CC0 1.0 Universal Public Domain Dedication. However, GESIS requests that you actively acknowledge and give attribution to all metadata sources, such as the data providers and any data aggregators, including GESIS. For further information see https://dbk.gesis.org/dbksearch/guidelines.asp'}],\n",
       "   'descriptions': [{'lang': 'de',\n",
       "     'description': 'Die Allgemeine Bevölkerungsumfrage der Sozialwissenschaften (ALLBUS) ist eine Trenderhebung, in der seit 1980 alle zwei Jahre eine Zufallsstichprobe der deutschen Bevölkerung befragt wird. Das primäre Ziel des Umfrageprogramms ist die Beobachtung von Einstellungen, Verhalten und sozialen Wandel in Deutschland. Jede ALLBUS-Querschnittserhebung besteht aus ein oder zwei Schwerpunktmodulen zu wechselnden Themen. Diese werden ergänzt durch weitere inhaltliche Fragen und ein Kernmodul mit detaillierten demografischen Informationen. Zudem werden Zusatzinformation zum Interview und den Interviewern bereitgestellt. Die Schwerpunktmodule folgen in der Regel einem 10-jährigen Replikationszyklus, viele Einzelindikatoren und Itembatterien werden aber auch in kürzeren Abständen repliziert. Das Schwerpunktmodul von ALLBUS 2021 befasst sich mit abweichendem Verhalten und Sanktionen. Weiterer Schwerpunkt der Erhebung war die Replikation von Fragen aus einem breiten Themenspektrum. Repliziert wurden u.a. Fragen zu Politik, sozialer Ungleichheit, Geschlechterrollen, Mediennutzung und Gesundheit. ALLBUS 2021 wurde erstmals in einem selbstadministrierten Mixed-Mode Design durchgeführt (MAIL (postalischer Selbstausfüller) und CAWI (Computer-Assisted Web Interview)). Themen: 1.) Mediennutzung:Dauer und Häufigkeit der Fernsehnutzung, Nutzungshäufigkeit von Nachrichtensendungen privater und öffentlich-rechtlicher Fernsehanbieter, Häufigkeit der Lektüre von Tageszeitungen pro Woche, Häufigkeit der Lektüre von Büchern / eBooks, Internetnutzung: Häufigkeit und Geräte, Häufigkeit der Nutzung sozialer Medien für Nachrichten und Politik, Glaubwürdigkeit verschiedener Informationsquellen beim Thema Kriminalität und öffentliche Sicherheit. 2.) Soziale Ungleichheit: Subjektive Schichteinstufung, gerechter Anteil am Lebensstandard, Zugangschancenungleichheit Bildung, Einstellungen zur sozialen Ungleichheit und zum Wohlfahrtsstaat. 3.) Ethnozentrismus und Minoritäten: Einstellungen zum Zuzug verschiedener Personengruppen, Einstellungen zu Ausländern, Kontakte zu Ausländern, antisemitische Vorurteile und Stereotype, Islamophobie, wahrgenommene Risiken und Chancen durch Flüchtlinge. 4.) Familie und Geschlechterrollen: Einstellung zur Erwerbstätigkeit von Vätern und Müttern, Arbeitsteilung mit Partner (Haushalt, Kinder), Erziehungsziele. 5.) Wertorientierungen: Arbeitsorientierungen, Einstellung zu Schwangerschaftsabbruch, Postmaterialismus (Wichtigkeit von Ruhe und Ordnung, Bürgereinfluss, Inflationsbekämpfung und freier Meinungsäußerung). 6.) Politische Einstellungen: Stolz, ein Deutscher zu sein; Vertrauen in öffentliche Einrichtungen und Organisationen: (Gesundheitswesen, Bundesverfassungsgericht, Bundestag, Stadt- und Gemeindeverwaltung, Kirchen, Justiz, Fernsehen, Zeitungswesen, Universitäten, Bundesregierung, Polizei, Parteien, Europäische Kommission, Europäisches Parlament); Verbundenheit mit Gemeinde, Bundesrepublik, EU; Steuersenkung oder Sozialleistungen, Einstellung zur Ausweitung oder Kürzung von Sozialleistungen, perzipierte Stärke von Konflikten zwischen gesellschaftlichen Gruppen, politisches Interesse, Selbsteinstufung auf einem Links-Rechts-Kontinuum, Zufriedenheit mit der Demokratie in Deutschland, Wahlabsicht (Sonntagsfrage). 7.) Abweichendes Verhalten und Sanktionen: Beurteilung der Strafpraxis von Gerichten, Kriminalitätsentwicklung, moralische Bewertung von Verhaltensweisen, deliktspezifisches Sanktionsbedürfnis (Punitivität), Wunsch nach gesetzlichem Verbot (verhaltensspezifisch), Einstellung zur Todesstrafe, selbstberichtete Delinquenz (Vergangenheit, Zukunft), wahrgenommene Entdeckungswahrscheinlichkeit, Viktimisierung (Diebstahl, Straftat), Norm Gesetzstreue, Senkung von Kriminalität durch harte Strafen (Abschreckung), Strafzwecke, Selbstkontrolle (Grasmick), Kriminalitätsfurcht, Sicherheitsgefühl in Wohnumgebung. 8.) Gesundheit: Subjektive Einschätzung des Gesundheitszustands, gesundheitliche Einschränkungen letzte 4 Wochen, Pandemien und Rechte des Staates. 9.) Religion: Religiöse Selbsteinstufung, Konfession, Häufigkeit Kirchgang / Besuch Gotteshaus. 10.) Sonstiges: Beurteilung der derzeitigen und zukünftigen Wirtschaftslage in Deutschland, Beurteilung der eigenen derzeitigen und zukünftigen wirtschaftlichen Situation, sozialer Pessimismus und Zukunftsorientierung (Anomia), interpersonales Vertrauen, subjektive Lebenszufriedenheit. 11.) ALLBUS-Demographie: Angaben zur befragten Person: Geburtsmonat, Geburtsjahr, Alter, Geschlecht, Familienstand, Staatsbürgerschaft (Nationalität), Anzahl der Staatsbürgerschaften, Herkunft, allgemeiner Schulabschluss, berufliche Ausbildung, Erwerbsstatus, Angaben zum gegenwärtigen bzw. früheren Beruf, Zugehörigkeit zum öffentlichen Dienst, wöchentliche Arbeitsdauer (Haupt- und Nebenerwerb), berufliche Aufsichtsfunktion, Furcht vor Verlust des Arbeitsplatzes, Dauer von Arbeitslosigkeit, Status der Nichterwerbstätigkeit, Zeitpunkt der Aufgabe hauptberuflicher Erwerbstätigkeit, jetzige oder frühere Gewerkschaftsmitgliedschaft, Mitgliedschaft in einer politischen Partei, monatliches Nettoeinkommen.Wohnort (Bundesland, politische Gemeindegröße, BIK-Stadtregion), Wohndauer in Deutschland, Wohndauer am Wohnort, Wohnstatus, Entfernung zum vorherigen Wohnort, Mobilitätsbereitschaft. Angaben zum Ehepartner: Geburtsmonat, Geburtsjahr, Alter, allgemeiner Schulabschluss, berufliche Ausbildung, Erwerbstätigkeit (incl. Nichterwerbsstatus), Angaben zum gegenwärtigen Beruf, Zugehörigkeit zum öffentlichen Dienst. Angaben zum nichtehelichen Lebenspartner: Geburtsmonat, Geburtsjahr, Alter, allgemeiner Schulabschluss, berufliche Ausbildung, Erwerbstätigkeit (incl. Nichterwerbsstatus), Angaben zum gegenwärtigen Beruf, Zugehörigkeit zum öffentlichen Dienst, gemeinsamer Haushalt mit befragter Person. Angaben zu den Eltern: Herkunftsland, Zusammenleben mit Eltern im Alter von 15 Jahren, allgemeiner Schulabschluss, berufliche Ausbildung, Angaben zum Beruf. Haushaltsbeschreibung: Haushaltsgröße, Haushaltseinkommen, Anzahl von über 17-jährigen Haushaltspersonen (reduzierte Haushaltsgröße). Angaben zu den einzelnen Haushaltspersonen (Haushaltsliste): Verwandtschaftsverhältnis zur befragten Person, Geschlecht, Geburtsmonat, Geburtsjahr, Alter, Familienstand. Angaben zu Kindern außerhalb des Haushalts: Zahl der Kinder außer Haus, Geschlecht, Geburtsjahr, Alter. 12.) Daten zum Interview (Paradaten): Studiennummer, Digital Object Identifier, Release, Identifikationsnummer des Befragten, Nummer des Samplepoints, Erhebungsmodus ALLBUS-Hauptbefragung, Zahl der Kontaktversuche, Anteil beantworteter Fragen, Datum Interviewbeginn und –ende, Interviewdauer, Anwesenheit weiterer Personen während des Interviews, Eingriff anderer Personen in die Beantwortung des Fragebogens, Unterbrechung der Bearbeitung des Fragebogens. 13.) Ergänzungen und abgeleitete Variablen: Postmaterialismus-Index (nach Inglehart), Berufsvercodung gemäß ISCO (International Standard Classification of Occupations) 1988 und 2008, SIOPS (nach Ganzeboom), ISEI (nach Ganzeboom), Sozioökonomische Gruppe (ESeG), ISCED (International Standard Classification of Education) 1997 und 2011, Lebensformen und Familiensituation, Transformationsgewicht für Auswertungen auf Haushaltsebene, Ost-West-Gewicht für gesamtdeutsche Auswertungen.',\n",
       "     'descriptionType': 'Abstract'},\n",
       "    {'lang': 'en',\n",
       "     'description': 'ALLBUS (GGSS - the German General Social Survey) is a biennial trend survey based on random samples of the German population. Established in 1980, its mission is to monitor attitudes, behavior, and social change in Germany. Each ALLBUS cross-sectional survey consists of one or two main question modules covering changing topics, a range of supplementary questions and a core module providing detailed demographic information. Additionally, data on the interview and the interviewers are provided as well. Key topics generally follow a 10-year replication cycle, many individual indicators and item batteries are replicated at shorter intervals. The main question module of ALLBUS/GGSS 2021 focuses on deviant behavior and sanctions. Another focus of the survey was the replication of questions from a broad range of topics. This included questions on politics and political attitudes, social inequality, gender roles, media use, and health. In contrast to the previous surveys in the ALLBUS series, ALLBUS 2021 was conducted in a self-administered mixed-mode design (MAIL (postal self-completion) and CAWI (computer-assisted web interview)). Topics 1.) Use of media: Frequency and average total time of watching tv, frequency of watching news programs on public and commercial tv, frequency of reading a daily newspaper per week, frequency of reading books / e-books; internet use: frequency and type of device, frequency of using social media for political information, trustworthiness of different news sources with regard to crime and public safety. 2.) Social Inequality: Self-assessment of social class, fair share in standard of living, assessment of access to education, attitudes towards social inequality and the welfare state. 3.) Ethnocentrism and minorities: Attitude towards the influx of various groups of immigrants, attitudes towards the foreigners living in Germany, contacts with foreigners, antisemitic stereotypes and prejudices, attitudes towards Islam (Islamophobia), perceived risks and chances with respect to refugees. 4.) Family and gender roles: Attitudes towards working fathers and mothers, division of labor regarding house and family work., importance of educational goals. 5.) Values: Work orientations, attitudes towards legalizing abortion, materialism / postmaterialism (importance of law and order, fighting rising prices, free expression of opinions and influence on governmental decisions). 6.) Political attitudes: Pride in being a German, confidence in public institutions and organizations (public health service, federal constitutional court, federal parliament (Bundestag), city or municipal administration, churches, judiciary, television, newspapers, universities, federal government, the police, political parties, European Commission, European Parliament); identification with own community, the Federal Republic of Germany and the EU, preference for lower taxes or more social spending, stance on extension or reduction in social services, perceived strength of conflicts between social groups, political interest, self-placement on left-right continuum, satisfaction with democracy in Germany, voting intention (Sonntagsfrage). 7.) Deviant behavior and sanctions: Assessment of adequacy of court judgments, development of crime rate, moral assessment of deviant acts, crime-specific desire for sanctions (punitivity), desire to prohibit specific behaviors, attitude towards the death penalty, self-reported deviant behavior (past and future), perceived probability of being caught committing various crimes, own victimisation (theft, any crime), respect of the law (norm), deterring crime through punishment, purpose of punishment, self-control (Grasmick), fear of crime, feeling of safety in living environment. 8.) Health: Self-assessment of overall health, physical and psychological shape during the last four weeks, acceptance of state powers to control epidemics. 9.) Religion: Self-assessment of religiousness, denomination, frequency of church attendance / attending a house of God. 10.) Other topics: Assessment of the present and future economic situation in Germany, assessment of present and future personal economic situation, social pessimism and orientation towards the future (anomia), interpersonal trust, reciprocity, authoritarianism, overall life satisfaction. 11.) ALLBUS-Demography: Details about the respondent: month and year of birth, age, gender, marital status, citizenship (nationality), number of citizenships, geographical origin, school education, vocational training, employment status, details about current or former occupation, affiliation to public service, working hours per week (primary and secondary job), supervisory functions, fear of unemployment, length of unemployment, status of non-employment, date of termination of full-time employment, current or former membership in a trade union, membership in a political party, respondent´s income. Place of residence (federal state, size of municipality, BIK-type of region), duration of residence (in Germany and at current place of residence), mobility. Details about respondent´s current spouse: month and year of birth, age, school education, vocational training, employment status, details about current occupation, affiliation to public service, fear of unemployment, status of non-employment. Details about respondent´s steady partner: month and year of birth, age, school education, vocational training, employment status, details about current occupation, affiliation to public service, fear of unemployment, status of non-employment, common household with respondent. Details about respondent´s parents: country of origin, cohabitation with respondent as adolescent, school education of mother and father, vocational training of mother and father, details about both parents´ occupation. Description of household: size of household, household income, number of persons older than 17 in household (reduced size of household). Details about household members: family relation to respondent, gender, month and year of birth, age, marital status. Details about children not living in the household: number of children not living in the household, gender, year of birth, age. 12.) Data on the interview (paradata): Study number, digital object identifier, release, respondent id, ID of sample point, mode of data collection, number of contacts, percentage of questions completed, date of beginning and end of interview, duration of interview, presence of other persons during the interview, interference of other persons in the course of the interview, pauses during completion of survey. 13.) Added value: Inglehart-Index, International Standard Classification of Occupations (ISCO) 1988 and 2008; Standard International Occupational Prestige Scale (SIOPS, according to Ganzeboom), International Socio-economic Index of Occupational Status (ISEI, according to Ganzeboom), European Socio-Economic Groups (ESeG), International Standard Classification of Education (ISCED) 1997 and 2011, forms of cohabitation and family situation, transformation weight for analyses on household level, east-west design weight.',\n",
       "     'descriptionType': 'Abstract'},\n",
       "    {'lang': 'en',\n",
       "     'description': 'Self-administered questionnaire: Paper',\n",
       "     'descriptionType': 'Methods'},\n",
       "    {'lang': 'en',\n",
       "     'description': 'Self-administered questionnaire: Web-based',\n",
       "     'descriptionType': 'Methods'},\n",
       "    {'lang': 'de',\n",
       "     'description': 'ALLBUS 2021 wurde erstmals in einem selbstadministrierten Mixed-Mode Design durchgeführt (MAIL (postalischer Selbstausfüller) und CAWI (Computer-asisted Web Interview)). Unterschiedliche Erhebungsmodi werden von unterschiedlichen Teilpopulationen bevorzugt, so auch im ALLBUS 2021. Um diese Selbstselektion in die Erhebungsmodi zu berücksichtigen, wird bei inhaltlichen Analysen empfohlen die Fälle aus beiden Modi gemeinsam auszuwerten.',\n",
       "     'descriptionType': 'Methods'},\n",
       "    {'lang': 'en',\n",
       "     'description': 'ALLBUS/GGSS 2021 was conducted as a mixed-mode survey. The target persons had the choice between the two modes MAIL and CAWI. Different survey modes are preferred by different subpopulations, as was the case in ALLBUS/GGSS 2021. To account for this self-selection, it is strongly recommended that the cases from both modes be analyzed together.',\n",
       "     'descriptionType': 'Methods'},\n",
       "    {'lang': 'de',\n",
       "     'description': 'Personen (Deutsche und Ausländer), die zum Befragungszeitpunkt in Privathaushalten lebten und vor dem 01.01.2003 geboren sind.',\n",
       "     'descriptionType': 'Methods'},\n",
       "    {'lang': 'en',\n",
       "     'description': 'All persons (German and non-German) who resided in private households and were born before 1 January 2003.',\n",
       "     'descriptionType': 'Methods'},\n",
       "    {'lang': 'de',\n",
       "     'description': 'Wahrscheinlichkeitsauswahl: Disproportional geschichtete Zufallsauswahl; Wahrscheinlichkeitsauswahl: Mehrstufige Zufallsauswahl; Auswahlverfahren Kommentar: Zweistufige, disproportional geschichtete Zufallsauswahl in Westdeutschland (inkl. West-Berlin) und Ostdeutschland (inkl. Ost-Berlin). In der ersten Auswahlstufe wurden Gemeinden in Westdeutschland und in Ostdeutschland mit einer Wahrscheinlichkeit proportional zur Zahl ihrer erwachsenen Einwohner ausgewählt. In der zweiten Auswahlstufe wurden Personen aus den Einwohnermeldekarteien zufällig gezogen. Zielpersonen mit nicht hinreichend guten Deutschkenntnissen zählen zu den systematischen Ausfällen.',\n",
       "     'descriptionType': 'Methods'}],\n",
       "   'geoLocations': [{'geoLocationPlace': 'Germany'}],\n",
       "   'fundingReferences': [],\n",
       "   'xml': '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',\n",
       "   'url': 'https://search.gesis.org/research_data/ZA5280?doi=10.4232/1.14002',\n",
       "   'contentUrl': None,\n",
       "   'metadataVersion': 4,\n",
       "   'schemaVersion': 'http://datacite.org/schema/kernel-4',\n",
       "   'source': 'fabricaForm',\n",
       "   'isActive': True,\n",
       "   'state': 'findable',\n",
       "   'reason': None,\n",
       "   'viewCount': 0,\n",
       "   'viewsOverTime': [],\n",
       "   'downloadCount': 0,\n",
       "   'downloadsOverTime': [],\n",
       "   'referenceCount': 0,\n",
       "   'citationCount': 1,\n",
       "   'citationsOverTime': [{'year': '2023', 'total': 1}],\n",
       "   'partCount': 0,\n",
       "   'partOfCount': 0,\n",
       "   'versionCount': 0,\n",
       "   'versionOfCount': 0,\n",
       "   'created': '2022-09-26T14:06:23.000Z',\n",
       "   'registered': '2022-09-26T14:06:23.000Z',\n",
       "   'published': '2022',\n",
       "   'updated': '2023-04-26T19:00:44.000Z'},\n",
       "  'relationships': {'client': {'data': {'id': 'gesis.gesis',\n",
       "     'type': 'clients'}},\n",
       "   'provider': {'data': {'id': 'vzek', 'type': 'providers'}},\n",
       "   'media': {'data': {'id': '10.4232/1.14002', 'type': 'media'}},\n",
       "   'references': {'data': []},\n",
       "   'citations': {'data': [{'id': '10.1111/pops.12892', 'type': 'dois'}]},\n",
       "   'parts': {'data': []},\n",
       "   'partOf': {'data': []},\n",
       "   'versions': {'data': []},\n",
       "   'versionOf': {'data': []}}}}"
      ]
     },
     "execution_count": 7,
     "metadata": {},
     "output_type": "execute_result"
    }
   ],
   "source": [
    "doi = \"10.4232/1.14002\"\n",
    "r = requests.get(f\"https://api.datacite.org/dois/{doi}\")\n",
    "r.json()"
   ]
  },
  {
   "cell_type": "markdown",
   "metadata": {},
   "source": [
    "\n",
    "### GESIS data\n",
    "\n",
    "We can access GESIS data through the DataCite API by providing the __provider-id__ and __client-id__.\n",
    "\n",
    "You can explore and try parameters at <https://support.datacite.org/reference/get_dois>"
   ]
  },
  {
   "cell_type": "code",
   "execution_count": 9,
   "metadata": {},
   "outputs": [],
   "source": [
    "url = \"https://api.datacite.org/dois\"\n",
    "headers = {\"accept\": \"application/vnd.api+json\"}\n",
    "params = {\n",
    "    \"provider-id\": \"gesis\",\n",
    "    \"client-id\": \"gesis.gesis\",\n",
    "    \"page[size]\": 5,\n",
    "    \"sort\": \"-updated\",\n",
    "}\n",
    "\n",
    "r = requests.get(url, headers=headers, params=params)\n",
    "\n",
    "gesis_data = r.json()"
   ]
  },
  {
   "cell_type": "code",
   "execution_count": 12,
   "metadata": {},
   "outputs": [
    {
     "data": {
      "text/plain": [
       "['10.4232/1.14165',\n",
       " '10.4232/1.11753',\n",
       " '10.4232/1.10258',\n",
       " '10.4232/1.13652',\n",
       " '10.7802/2396']"
      ]
     },
     "execution_count": 12,
     "metadata": {},
     "output_type": "execute_result"
    }
   ],
   "source": [
    "[record[\"id\"] for record in gesis_data[\"data\"]]"
   ]
  },
  {
   "cell_type": "code",
   "execution_count": 13,
   "metadata": {},
   "outputs": [
    {
     "data": {
      "text/plain": [
       "9442"
      ]
     },
     "execution_count": 13,
     "metadata": {},
     "output_type": "execute_result"
    }
   ],
   "source": [
    "gesis_data[\"meta\"][\"total\"]"
   ]
  },
  {
   "cell_type": "code",
   "execution_count": 14,
   "metadata": {},
   "outputs": [
    {
     "data": {
      "text/plain": [
       "[{'id': 'dataset', 'title': 'Dataset', 'count': 9005},\n",
       " {'id': 'text', 'title': 'Text', 'count': 436},\n",
       " {'id': 'other', 'title': 'Other', 'count': 1}]"
      ]
     },
     "execution_count": 14,
     "metadata": {},
     "output_type": "execute_result"
    }
   ],
   "source": [
    "gesis_data[\"meta\"][\"resourceTypes\"]"
   ]
  },
  {
   "cell_type": "markdown",
   "metadata": {},
   "source": [
    "## Zenodo API\n",
    "\n",
    "Zenodo has an API to access and deposit research outputs.\n",
    "\n",
    "<https://developers.zenodo.org/#rest-api>"
   ]
  },
  {
   "cell_type": "markdown",
   "metadata": {},
   "source": [
    "### Record\n",
    "\n",
    "We start by accessing a Zenodo record through the Zenodo API.\n",
    "\n",
    "<https://developers.zenodo.org/#retrieve37>"
   ]
  },
  {
   "cell_type": "code",
   "execution_count": 8,
   "metadata": {},
   "outputs": [
    {
     "data": {
      "text/plain": [
       "{'created': '2023-09-19T15:15:22.704918+00:00',\n",
       " 'modified': '2023-09-20T14:27:05.762099+00:00',\n",
       " 'id': 8360299,\n",
       " 'conceptrecid': '8360298',\n",
       " 'doi': '10.5281/zenodo.8360299',\n",
       " 'conceptdoi': '10.5281/zenodo.8360298',\n",
       " 'doi_url': 'https://doi.org/10.5281/zenodo.8360299',\n",
       " 'metadata': {'title': 'ColStudies: A web-frontend to Colectica API to register DOIs with da|ra',\n",
       "  'doi': '10.5281/zenodo.8360299',\n",
       "  'publication_date': '2023-09-19',\n",
       "  'description': '<p>Basic ColStudies application, connect to Colectica repository, view studies, register DOIs with da|ra.</p>',\n",
       "  'access_right': 'open',\n",
       "  'creators': [{'name': 'Wolfgang Zenk-Möltgen', 'affiliation': 'GESIS'}],\n",
       "  'keywords': ['DDI, da|ra'],\n",
       "  'related_identifiers': [{'identifier': 'https://github.com/moeltgen/ColStudies/tree/v0.3',\n",
       "    'relation': 'isSupplementTo',\n",
       "    'scheme': 'url'}],\n",
       "  'version': 'v0.3',\n",
       "  'resource_type': {'title': 'Software', 'type': 'software'},\n",
       "  'license': {'id': 'mit-license'},\n",
       "  'relations': {'version': [{'index': 0,\n",
       "     'is_last': True,\n",
       "     'parent': {'pid_type': 'recid', 'pid_value': '8360298'}}]}},\n",
       " 'title': 'ColStudies: A web-frontend to Colectica API to register DOIs with da|ra',\n",
       " 'links': {'self': 'https://zenodo.org/api/records/8360299',\n",
       "  'self_html': 'https://zenodo.org/records/8360299',\n",
       "  'self_doi': 'https://zenodo.org/doi/10.5281/zenodo.8360299',\n",
       "  'doi': 'https://doi.org/10.5281/zenodo.8360299',\n",
       "  'parent': 'https://zenodo.org/api/records/8360298',\n",
       "  'parent_html': 'https://zenodo.org/records/8360298',\n",
       "  'parent_doi': 'https://zenodo.org/doi/10.5281/zenodo.8360298',\n",
       "  'self_iiif_manifest': 'https://zenodo.org/api/iiif/record:8360299/manifest',\n",
       "  'self_iiif_sequence': 'https://zenodo.org/api/iiif/record:8360299/sequence/default',\n",
       "  'files': 'https://zenodo.org/api/records/8360299/files',\n",
       "  'media_files': 'https://zenodo.org/api/records/8360299/media-files',\n",
       "  'archive': 'https://zenodo.org/api/records/8360299/files-archive',\n",
       "  'archive_media': 'https://zenodo.org/api/records/8360299/media-files-archive',\n",
       "  'latest': 'https://zenodo.org/api/records/8360299/versions/latest',\n",
       "  'latest_html': 'https://zenodo.org/records/8360299/latest',\n",
       "  'draft': 'https://zenodo.org/api/records/8360299/draft',\n",
       "  'versions': 'https://zenodo.org/api/records/8360299/versions',\n",
       "  'access_links': 'https://zenodo.org/api/records/8360299/access/links',\n",
       "  'access_users': 'https://zenodo.org/api/records/8360299/access/users',\n",
       "  'access_request': 'https://zenodo.org/api/records/8360299/access/request',\n",
       "  'access': 'https://zenodo.org/api/records/8360299/access',\n",
       "  'reserve_doi': 'https://zenodo.org/api/records/8360299/draft/pids/doi',\n",
       "  'communities': 'https://zenodo.org/api/records/8360299/communities',\n",
       "  'communities-suggestions': 'https://zenodo.org/api/records/8360299/communities-suggestions',\n",
       "  'requests': 'https://zenodo.org/api/records/8360299/requests'},\n",
       " 'updated': '2023-09-20T14:27:05.762099+00:00',\n",
       " 'recid': '8360299',\n",
       " 'revision': 5,\n",
       " 'files': [{'id': 'eb31bd1f-8bf9-47b9-8c44-84b895a19501',\n",
       "   'key': 'moeltgen/ColStudies-v0.3.zip',\n",
       "   'size': 27443,\n",
       "   'checksum': 'md5:cf4dd6c6160cc7a15779dd25c133a596',\n",
       "   'links': {'self': 'https://zenodo.org/api/records/8360299/files/moeltgen/ColStudies-v0.3.zip/content'}}],\n",
       " 'owners': [{'id': 367396}],\n",
       " 'status': 'published',\n",
       " 'stats': {'downloads': 1,\n",
       "  'unique_downloads': 1,\n",
       "  'views': 15,\n",
       "  'unique_views': 10,\n",
       "  'version_downloads': 1,\n",
       "  'version_unique_downloads': 1,\n",
       "  'version_unique_views': 10,\n",
       "  'version_views': 15},\n",
       " 'state': 'done',\n",
       " 'submitted': True}"
      ]
     },
     "execution_count": 8,
     "metadata": {},
     "output_type": "execute_result"
    }
   ],
   "source": [
    "r = requests.get(\"https://zenodo.org/api/records/8360299\")\n",
    "\n",
    "r.json()"
   ]
  },
  {
   "cell_type": "markdown",
   "metadata": {},
   "source": [
    "### API key\n",
    "\n",
    "A [Zenodo API key](https://zenodo.org/account/settings/applications/tokens/new/) is needed to access most of the REST API.\n",
    "\n",
    "Read API key from a local `.env` not in Git repository with [python-decouple](https://github.com/HBNetwork/python-decouple#how-to-use-python-decouple-with-jupyter) "
   ]
  },
  {
   "cell_type": "code",
   "execution_count": 9,
   "metadata": {},
   "outputs": [],
   "source": [
    "import os\n",
    "from decouple import Config, RepositoryEnv\n",
    "\n",
    "config = Config(RepositoryEnv(\"/workspaces/dss-presentation_data-tools/.env\"))\n",
    "\n",
    "ACCESS_TOKEN = config(\"ZENODO_API_KEY\")"
   ]
  },
  {
   "cell_type": "markdown",
   "metadata": {},
   "source": [
    "### Depositions\n",
    "\n",
    "<https://developers.zenodo.org/#retrieve>"
   ]
  },
  {
   "cell_type": "markdown",
   "metadata": {},
   "source": [
    "Show that the Zenodo API key is needed to access _depositions_."
   ]
  },
  {
   "cell_type": "code",
   "execution_count": 10,
   "metadata": {},
   "outputs": [
    {
     "data": {
      "text/plain": [
       "{'status': 403, 'message': 'Permission denied.'}"
      ]
     },
     "execution_count": 10,
     "metadata": {},
     "output_type": "execute_result"
    }
   ],
   "source": [
    "r = requests.get(\n",
    "    \"https://zenodo.org/api/deposit/depositions\",\n",
    "    params={\"access_token\": \"no Zenodo access token provided\"},\n",
    ")\n",
    "r.json()"
   ]
  },
  {
   "cell_type": "markdown",
   "metadata": {},
   "source": [
    "Get depositions for API key holder."
   ]
  },
  {
   "cell_type": "code",
   "execution_count": 11,
   "metadata": {},
   "outputs": [
    {
     "data": {
      "text/plain": [
       "200"
      ]
     },
     "execution_count": 11,
     "metadata": {},
     "output_type": "execute_result"
    }
   ],
   "source": [
    "r = requests.get(\n",
    "    \"https://zenodo.org/api/deposit/depositions\", params={\"access_token\": ACCESS_TOKEN}\n",
    ")\n",
    "r.status_code"
   ]
  },
  {
   "cell_type": "code",
   "execution_count": 12,
   "metadata": {},
   "outputs": [
    {
     "data": {
      "text/plain": [
       "2"
      ]
     },
     "execution_count": 12,
     "metadata": {},
     "output_type": "execute_result"
    }
   ],
   "source": [
    "depositions = r.json()\n",
    "\n",
    "len(depositions)"
   ]
  },
  {
   "cell_type": "code",
   "execution_count": 13,
   "metadata": {},
   "outputs": [
    {
     "data": {
      "text/plain": [
       "[{'created': '2023-10-31T19:20:11.026536+00:00',\n",
       "  'modified': '2023-10-31T19:20:11.132336+00:00',\n",
       "  'id': 8421233,\n",
       "  'conceptrecid': '8421232',\n",
       "  'doi': '10.5281/zenodo.8421233',\n",
       "  'conceptdoi': '10.5281/zenodo.8421232',\n",
       "  'doi_url': 'https://doi.org/10.5281/zenodo.8421233',\n",
       "  'metadata': {'title': 'Harmonizing and linking party information: The ESS as an example of complex data linking',\n",
       "   'doi': '10.5281/zenodo.8421233',\n",
       "   'publication_date': '2023-10-09',\n",
       "   'description': '<p>Combining party information from multiple sources is a work-intensive challenge for quantitative studies of political representation. Differences in the definition of political parties and difficult data structures can make linking party information across datasets challenging. The European Social Survey (ESS) is an example of a prominent data source in political science research whose party information is particularly difficult to work with. Here, we demonstrate how Party Facts, an online infrastructure for combining party information, can be used to link different social science datasets and assess the performance of the linking process. In this article, we discuss the difficulties of complex linking tasks and show how the ESS can be combined with other sources. We have updated the database to include appropriate links for the recent Round 10 of the ESS and provide two examples of complex linking by combining the ESS with the Chapel Hill Expert Survey (CHES) and with the Parliament and Government Database (ParlGov).</p>',\n",
       "   'access_right': 'open',\n",
       "   'creators': [{'name': 'Paul Bederke',\n",
       "     'affiliation': 'University of Konstanz, Germany',\n",
       "     'orcid': '0000-0001-7555-8656'},\n",
       "    {'name': 'Holger Döring',\n",
       "     'affiliation': 'GESIS – Leibniz Institute for the Social Sciences, Germany',\n",
       "     'orcid': '0000-0002-6616-8805'}],\n",
       "   'keywords': ['comparative politics',\n",
       "    'data management',\n",
       "    'survey data',\n",
       "    'voting behavior',\n",
       "    'expert surveys',\n",
       "    'validation'],\n",
       "   'related_identifiers': [{'identifier': 'https://github.com/hdigital/ess-linking/tree/v0.1',\n",
       "     'relation': 'isSupplementTo',\n",
       "     'scheme': 'url'}],\n",
       "   'version': 'v0.1',\n",
       "   'license': 'other-open',\n",
       "   'imprint_publisher': 'Zenodo',\n",
       "   'upload_type': 'software',\n",
       "   'prereserve_doi': {'doi': '10.5281/zenodo.8421233', 'recid': 8421233}},\n",
       "  'title': 'Harmonizing and linking party information: The ESS as an example of complex data linking',\n",
       "  'links': {'self': 'https://zenodo.org/api/records/8421233',\n",
       "   'html': 'https://zenodo.org/records/8421233',\n",
       "   'doi': 'https://doi.org/10.5281/zenodo.8421233',\n",
       "   'parent_doi': 'https://zenodo.org/doi/10.5281/zenodo.8421232',\n",
       "   'badge': 'https://zenodo.org/badge/doi/10.5281%2Fzenodo.8421233.svg',\n",
       "   'conceptbadge': 'https://zenodo.org/badge/doi/10.5281%2Fzenodo.8421232.svg',\n",
       "   'files': 'https://zenodo.org/api/records/8421233/files',\n",
       "   'latest_draft': 'https://zenodo.org/api/deposit/depositions/8421233',\n",
       "   'latest_draft_html': 'https://zenodo.org/deposit/8421233',\n",
       "   'publish': 'https://zenodo.org/api/deposit/depositions/8421233/actions/publish',\n",
       "   'edit': 'https://zenodo.org/api/deposit/depositions/8421233/actions/edit',\n",
       "   'discard': 'https://zenodo.org/api/deposit/depositions/8421233/actions/discard',\n",
       "   'newversion': 'https://zenodo.org/api/deposit/depositions/8421233/actions/newversion',\n",
       "   'registerconceptdoi': 'https://zenodo.org/api/deposit/depositions/8421233/actions/registerconceptdoi',\n",
       "   'record': 'https://zenodo.org/api/records/8421233',\n",
       "   'record_html': 'https://zenodo.org/record/8421233',\n",
       "   'latest': 'https://zenodo.org/api/records/8421233/versions/latest',\n",
       "   'latest_html': 'https://zenodo.org/record/8421233/versions/latest'},\n",
       "  'record_id': 8421233,\n",
       "  'owner': 399146,\n",
       "  'files': [],\n",
       "  'state': 'done',\n",
       "  'submitted': True},\n",
       " {'created': '2023-10-31T18:21:09.091174+00:00',\n",
       "  'modified': '2023-10-31T18:21:09.199219+00:00',\n",
       "  'id': 8275697,\n",
       "  'conceptrecid': '7043510',\n",
       "  'doi': '10.5281/zenodo.8275697',\n",
       "  'conceptdoi': '10.5281/zenodo.7043510',\n",
       "  'doi_url': 'https://doi.org/10.5281/zenodo.8275697',\n",
       "  'metadata': {'title': 'Party positions from Wikipedia tags (July 2023)',\n",
       "   'doi': '10.5281/zenodo.8275697',\n",
       "   'publication_date': '2023-08-23',\n",
       "   'description': '<p>Estimation of party positions from Wikipedia tags with Stan (July 2023)</p>',\n",
       "   'access_right': 'open',\n",
       "   'creators': [{'name': 'Holger Döring',\n",
       "     'affiliation': 'GESIS – Leibniz Institute for the Social Sciences'},\n",
       "    {'name': 'Michael Herrmann', 'affiliation': 'University of Konstanz'}],\n",
       "   'related_identifiers': [{'identifier': 'https://github.com/hdigital/partypositions-wikitags/tree/23.07',\n",
       "     'relation': 'isSupplementTo',\n",
       "     'scheme': 'url'}],\n",
       "   'version': '23.07',\n",
       "   'license': 'other-open',\n",
       "   'imprint_publisher': 'Zenodo',\n",
       "   'upload_type': 'software',\n",
       "   'prereserve_doi': {'doi': '10.5281/zenodo.8275697', 'recid': 8275697}},\n",
       "  'title': 'Party positions from Wikipedia tags (July 2023)',\n",
       "  'links': {'self': 'https://zenodo.org/api/records/8275697',\n",
       "   'html': 'https://zenodo.org/records/8275697',\n",
       "   'doi': 'https://doi.org/10.5281/zenodo.8275697',\n",
       "   'parent_doi': 'https://zenodo.org/doi/10.5281/zenodo.7043510',\n",
       "   'badge': 'https://zenodo.org/badge/doi/10.5281%2Fzenodo.8275697.svg',\n",
       "   'conceptbadge': 'https://zenodo.org/badge/doi/10.5281%2Fzenodo.7043510.svg',\n",
       "   'files': 'https://zenodo.org/api/records/8275697/files',\n",
       "   'latest_draft': 'https://zenodo.org/api/deposit/depositions/8275697',\n",
       "   'latest_draft_html': 'https://zenodo.org/deposit/8275697',\n",
       "   'publish': 'https://zenodo.org/api/deposit/depositions/8275697/actions/publish',\n",
       "   'edit': 'https://zenodo.org/api/deposit/depositions/8275697/actions/edit',\n",
       "   'discard': 'https://zenodo.org/api/deposit/depositions/8275697/actions/discard',\n",
       "   'newversion': 'https://zenodo.org/api/deposit/depositions/8275697/actions/newversion',\n",
       "   'registerconceptdoi': 'https://zenodo.org/api/deposit/depositions/8275697/actions/registerconceptdoi',\n",
       "   'record': 'https://zenodo.org/api/records/8275697',\n",
       "   'record_html': 'https://zenodo.org/record/8275697',\n",
       "   'latest': 'https://zenodo.org/api/records/8275697/versions/latest',\n",
       "   'latest_html': 'https://zenodo.org/record/8275697/versions/latest'},\n",
       "  'record_id': 8275697,\n",
       "  'owner': 399146,\n",
       "  'files': [],\n",
       "  'state': 'done',\n",
       "  'submitted': True}]"
      ]
     },
     "execution_count": 13,
     "metadata": {},
     "output_type": "execute_result"
    }
   ],
   "source": [
    "depositions"
   ]
  },
  {
   "cell_type": "markdown",
   "metadata": {},
   "source": [
    "### GESIS records\n",
    "\n",
    "<https://developers.zenodo.org/#records>"
   ]
  },
  {
   "cell_type": "markdown",
   "metadata": {},
   "source": [
    "#### Get records\n",
    "\n",
    "Get records for all GESIS members."
   ]
  },
  {
   "cell_type": "code",
   "execution_count": 14,
   "metadata": {},
   "outputs": [],
   "source": [
    "records_api_url = \"https://zenodo.org/api/records\"\n",
    "search_query = 'creators.affiliation:(\"GESIS\")'\n",
    "params = {\"q\": search_query, \"access_token\": ACCESS_TOKEN}\n",
    "\n",
    "r = requests.get(records_api_url, params=params)\n",
    "\n",
    "gesis_records = r.json()"
   ]
  },
  {
   "cell_type": "code",
   "execution_count": 15,
   "metadata": {},
   "outputs": [
    {
     "data": {
      "text/plain": [
       "{'created': '2022-02-03T15:26:38.380712+00:00',\n",
       " 'modified': '2022-03-04T10:58:01.633724+00:00',\n",
       " 'id': 5914219,\n",
       " 'conceptrecid': '5914218',\n",
       " 'doi': '10.5281/zenodo.5914219',\n",
       " 'conceptdoi': '10.5281/zenodo.5914218',\n",
       " 'doi_url': 'https://doi.org/10.5281/zenodo.5914219',\n",
       " 'metadata': {'title': 'KonsortSWD PID Registrator',\n",
       "  'doi': '10.5281/zenodo.5914219',\n",
       "  'publication_date': '2022-01-31',\n",
       "  'description': '<p>The purpose of this software is to enable registering any object with an existing PID handle server based on the ePIC API.</p>',\n",
       "  'access_right': 'open',\n",
       "  'creators': [{'name': 'Zhang, Yudong', 'affiliation': 'GESIS'},\n",
       "   {'name': 'Baran, Erdal', 'affiliation': 'GESIS'},\n",
       "   {'name': 'Zloch, Matthäus', 'affiliation': 'GESIS'},\n",
       "   {'name': 'Mühlbauer, Alexander', 'affiliation': 'GESIS'},\n",
       "   {'name': 'Klas, Claus-Peter', 'affiliation': 'GESIS'},\n",
       "   {'name': 'Mutschke, Peter', 'affiliation': 'GESIS'}],\n",
       "  'contributors': [{'name': 'Klas, Claus-Peter',\n",
       "    'affiliation': 'Gesis',\n",
       "    'type': 'ProjectManager'},\n",
       "   {'name': 'Mutschke, Peter',\n",
       "    'affiliation': 'Gesis',\n",
       "    'type': 'ProjectManager'},\n",
       "   {'name': 'Zhang, Yudong', 'affiliation': 'Gesis', 'type': 'ProjectMember'},\n",
       "   {'name': 'Baran, Erdal', 'affiliation': 'Gesis', 'type': 'ProjectMember'},\n",
       "   {'name': 'Muehlbauer, Alex',\n",
       "    'affiliation': 'Gesis',\n",
       "    'type': 'ProjectMember'},\n",
       "   {'name': 'Zloch, Matthäus',\n",
       "    'affiliation': 'Gesis',\n",
       "    'type': 'ProjectMember'}],\n",
       "  'keywords': ['NFDI', 'PID', 'DOI', 'Registration', 'ePIC', 'da|ra'],\n",
       "  'version': 'v0.1.0',\n",
       "  'resource_type': {'title': 'Software', 'type': 'software'},\n",
       "  'license': {'id': 'apache2.0'},\n",
       "  'communities': [{'id': 'nfdi'}, {'id': 'konsortswd'}],\n",
       "  'relations': {'version': [{'index': 0,\n",
       "     'is_last': True,\n",
       "     'parent': {'pid_type': 'recid', 'pid_value': '5914218'}}]}},\n",
       " 'title': 'KonsortSWD PID Registrator',\n",
       " 'links': {'self': 'https://zenodo.org/api/records/5914219',\n",
       "  'self_html': 'https://zenodo.org/records/5914219',\n",
       "  'self_doi': 'https://zenodo.org/doi/10.5281/zenodo.5914219',\n",
       "  'doi': 'https://doi.org/10.5281/zenodo.5914219',\n",
       "  'parent': 'https://zenodo.org/api/records/5914218',\n",
       "  'parent_html': 'https://zenodo.org/records/5914218',\n",
       "  'parent_doi': 'https://zenodo.org/doi/10.5281/zenodo.5914218',\n",
       "  'self_iiif_manifest': 'https://zenodo.org/api/iiif/record:5914219/manifest',\n",
       "  'self_iiif_sequence': 'https://zenodo.org/api/iiif/record:5914219/sequence/default',\n",
       "  'files': 'https://zenodo.org/api/records/5914219/files',\n",
       "  'media_files': 'https://zenodo.org/api/records/5914219/media-files',\n",
       "  'archive': 'https://zenodo.org/api/records/5914219/files-archive',\n",
       "  'archive_media': 'https://zenodo.org/api/records/5914219/media-files-archive',\n",
       "  'latest': 'https://zenodo.org/api/records/5914219/versions/latest',\n",
       "  'latest_html': 'https://zenodo.org/records/5914219/latest',\n",
       "  'draft': 'https://zenodo.org/api/records/5914219/draft',\n",
       "  'versions': 'https://zenodo.org/api/records/5914219/versions',\n",
       "  'access_links': 'https://zenodo.org/api/records/5914219/access/links',\n",
       "  'access_users': 'https://zenodo.org/api/records/5914219/access/users',\n",
       "  'access_request': 'https://zenodo.org/api/records/5914219/access/request',\n",
       "  'access': 'https://zenodo.org/api/records/5914219/access',\n",
       "  'reserve_doi': 'https://zenodo.org/api/records/5914219/draft/pids/doi',\n",
       "  'communities': 'https://zenodo.org/api/records/5914219/communities',\n",
       "  'communities-suggestions': 'https://zenodo.org/api/records/5914219/communities-suggestions',\n",
       "  'requests': 'https://zenodo.org/api/records/5914219/requests'},\n",
       " 'updated': '2022-03-04T10:58:01.633724+00:00',\n",
       " 'recid': '5914219',\n",
       " 'revision': 10,\n",
       " 'files': [{'id': '3ecd1aa8-992d-443d-8ba3-77277ac22a0e',\n",
       "   'key': 'nfdi_pid_registrator_v0.1.0.tar',\n",
       "   'size': 259584,\n",
       "   'checksum': 'md5:41c5211ba7a8cf34746ca901bc3bd96c',\n",
       "   'links': {'self': 'https://zenodo.org/api/records/5914219/files/nfdi_pid_registrator_v0.1.0.tar/content'}}],\n",
       " 'owners': [{'id': 295671}],\n",
       " 'status': 'published',\n",
       " 'stats': {'downloads': 7,\n",
       "  'unique_downloads': 5,\n",
       "  'views': 196,\n",
       "  'unique_views': 150,\n",
       "  'version_downloads': 7,\n",
       "  'version_unique_downloads': 5,\n",
       "  'version_unique_views': 149,\n",
       "  'version_views': 195},\n",
       " 'state': 'done',\n",
       " 'submitted': True}"
      ]
     },
     "execution_count": 15,
     "metadata": {},
     "output_type": "execute_result"
    }
   ],
   "source": [
    "gesis_records[\"hits\"][\"hits\"][0]"
   ]
  },
  {
   "cell_type": "markdown",
   "metadata": {},
   "source": [
    "#### Extract names\n",
    "\n",
    "Extract _creator_ names from records of GESIS members."
   ]
  },
  {
   "cell_type": "code",
   "execution_count": 16,
   "metadata": {},
   "outputs": [
    {
     "name": "stdout",
     "output_type": "stream",
     "text": [
      "\n",
      "## 10.5281/zenodo.5914219\n",
      "[ KonsortSWD PID Registrator ]\n",
      "Zhang, Yudong\n",
      "Baran, Erdal\n",
      "Zloch, Matthäus\n",
      "Mühlbauer, Alexander\n",
      "Klas, Claus-Peter\n",
      "Mutschke, Peter\n",
      "\n",
      "## 10.5281/zenodo.6630263\n",
      "[ Experiences with converting DDI among versions using DDI-FlatDB ]\n",
      "Klas, Claus-Peter\n",
      "Hopt, Oliver\n",
      "Krämer, Thomas\n",
      "Nugraha, Sigit\n",
      "\n",
      "## 10.5281/zenodo.7220636\n",
      "[ UniSAFE D4.1 Final UniSAFE-Survey Questionnaire ]\n",
      "Lipinsky, Anke\n",
      "Schredl, Claudia\n",
      "Baumann, Horst\n",
      "Lomazzi, Vera\n",
      "Freund, Frederike\n",
      "\n",
      "## 10.5281/zenodo.259554\n",
      "[ Rich metadata from the start ]\n",
      "Hopt, Oliver\n",
      "Klas, Claus-Peter\n",
      "Mühlbauer, Alexander\n",
      "Zenk-Möltgen, Wolfgang\n",
      "\n",
      "## 10.5281/zenodo.7024958\n",
      "[ Survey on the situation of professors at a technical university in Germany. Questionnaire (English version) ]\n",
      "Geisler, Helena\n",
      "Löther, Andrea\n",
      "Steinweg, Nina\n",
      "\n",
      "## 10.5281/zenodo.7023258\n",
      "[ Umfrage zur Situation von Professor*innen an einer technischen Hochschule in Deutschland. Fragebogen (deutsche Version) ]\n",
      "Geisler, Helena\n",
      "Löther, Andrea\n",
      "Steinweg, Nina\n",
      "\n",
      "## 10.5281/zenodo.1118382\n",
      "[ Progress with the CESSDA Euro Question Bank Project ]\n",
      "MahmoudHashemi, Azadeh\n",
      "Mühlbauer, Alexander\n",
      "Zenk-Möltgen, Wolfgang\n",
      "\n",
      "## 10.5281/zenodo.1118391\n",
      "[ Lessons Learned with Additional Mappings into DDI-FlatDB ]\n",
      "Klas, Claus-Peter\n",
      "Hopt, Oliver\n",
      "Mühlbauer, Alexander\n",
      "\n",
      "## 10.5281/zenodo.5180976\n",
      "[ D4.9 Guidelines on the use of Translation Memories in survey translation ]\n",
      "Veronika Keck\n",
      "Dorothée Behr\n",
      "Brita Dorer\n",
      "\n",
      "## 10.5281/zenodo.259565\n",
      "[ The Past, Present and Future of Geocoded Survey Data at the GESIS Data Archive ]\n",
      "Müller, Stefan\n",
      "Zenk-Möltgen, Wolfgang\n",
      "Schweers, Stefan\n",
      "\n",
      "## 10.5281/zenodo.4621051\n",
      "[ Introduction to metadata initiatives of interest to CESSDA and Service Providers ]\n",
      "Borschewski, Kerrin\n",
      "Akdeniz, Esra\n",
      "Piesch, Sophia\n",
      "\n",
      "## 10.5281/zenodo.7143302\n",
      "[ An integrated platform for comparing reference extraction toolkits and provisioning their output ]\n",
      "Mayr, Philipp\n",
      "Backes, Tobias\n",
      "Shahid, Muhammad Ahsan\n",
      "\n",
      "## 10.5281/zenodo.4581806\n",
      "[ MS17 Open source CAT TM software selected ]\n",
      "Veronika Keck\n",
      "Dorothée Behr\n",
      "Brita Dorer\n",
      "\n",
      "## 10.5281/zenodo.7638506\n",
      "[ User Guide for the CESSDA Metadata Model version 3.0 ]\n",
      "Esra Akdeniz\n",
      "Kerrin Borschewski\n",
      "Katrin Baum\n",
      "Libby Bishop\n",
      "\n",
      "## 10.5281/zenodo.8386418\n",
      "[ Total Error Sheets for Datasets (TES-D) zur Dokumentation Digitaler Verhaltensdaten - Eine Kritische Reflektion des Datensammlungsprozesses ]\n",
      "Fröhling, Leon\n",
      "Sen, Indira\n",
      "Soldner, Felix\n",
      "Zens, Maria\n",
      "Weller, Katrin\n",
      "\n",
      "## 10.5281/zenodo.1118384\n",
      "[ DDI-FlatDB: Next steps ]\n",
      "Klas, Claus-Peter\n",
      "Hopt, Oliver\n",
      "\n",
      "## 10.5281/zenodo.3582020\n",
      "[ CESSDA Webinar: The CESSDA EuroQuestionBank: Search, find and reuse questionnaire items from social scientific research ]\n",
      "Akdeniz, Esra\n",
      "Krämer, Thomas\n",
      "\n",
      "## 10.5281/zenodo.3597408\n",
      "[ DDI based Questionnaire Editor ]\n",
      "Klas, Claus-Peter\n",
      "Hopt, Oliver\n",
      "\n",
      "## 10.5281/zenodo.4518893\n",
      "[ GDPR & Ethical Issues with Social Media Data ]\n",
      "Weller, Katrin\n",
      "Watteler, Oliver\n",
      "\n",
      "## 10.5281/zenodo.7464990\n",
      "[ European DDI Conference 2022 Training Fair: Overview of the Session ]\n",
      "Bishop, Elizabeth\n",
      "Zenk-Möltgen, Wolfgang\n",
      "\n",
      "## 10.5281/zenodo.3620845\n",
      "[ How to deal with Persistent Identifiers? A Survey on PID usage within CESSDA ERIC ]\n",
      "Borschewski, Kerrin\n",
      "Hausstein, Brigitte\n",
      "\n",
      "## 10.5281/zenodo.2660928\n",
      "[ Which social media interactions indicate positive opinions about cited publications? A comparison of user survey and sentiment analysis ]\n",
      "Weller, Katrin\n",
      "Zagovora, Olya\n",
      "\n",
      "## 10.5281/zenodo.3955711\n",
      "[ Vortragsfolien KonsortSWD - Konsortium für die Sozial-, Verhaltens-,  Bildungs- und Wirtschaftswissenschaften ]\n",
      "Wolf, Christof\n",
      "Miller, Bernhard\n",
      "\n",
      "## 10.5281/zenodo.439699\n",
      "[ TokTrack secondary dataset ]\n",
      "Fabian Flöck\n",
      "Kenan Erdogan\n",
      "\n",
      "## 10.5281/zenodo.3781700\n",
      "[ Data Sharing in DASISH ]\n",
      "Alexia Katsanidou\n",
      "Markus Quandt\n"
     ]
    }
   ],
   "source": [
    "for record in gesis_records[\"hits\"][\"hits\"]:\n",
    "    print(f\"\\n## {record['doi']}\\n[ {record['title']} ]\")\n",
    "    for creator in record[\"metadata\"][\"creators\"]:\n",
    "        if creator[\"affiliation\"] and \"GESIS\" in creator[\"affiliation\"]:\n",
    "            print(creator[\"name\"])"
   ]
  },
  {
   "cell_type": "markdown",
   "metadata": {},
   "source": [
    "Create a list of GESIS authors and Zenodo publications."
   ]
  },
  {
   "cell_type": "code",
   "execution_count": 17,
   "metadata": {},
   "outputs": [],
   "source": [
    "gesis_authors = []\n",
    "\n",
    "for record in gesis_records[\"hits\"][\"hits\"]:\n",
    "    for creator in record[\"metadata\"][\"creators\"]:\n",
    "        if creator[\"affiliation\"] and \"GESIS\" in creator[\"affiliation\"]:\n",
    "            gesis_authors.append(\n",
    "                {\n",
    "                    \"record\": record[\"doi\"],\n",
    "                    \"creator\": creator[\"name\"],\n",
    "                    \"type\": record[\"metadata\"][\"resource_type\"][\"type\"],\n",
    "                }\n",
    "            )"
   ]
  },
  {
   "cell_type": "code",
   "execution_count": 18,
   "metadata": {},
   "outputs": [
    {
     "data": {
      "text/plain": [
       "[{'record': '10.5281/zenodo.5914219',\n",
       "  'creator': 'Zhang, Yudong',\n",
       "  'type': 'software'},\n",
       " {'record': '10.5281/zenodo.5914219',\n",
       "  'creator': 'Baran, Erdal',\n",
       "  'type': 'software'},\n",
       " {'record': '10.5281/zenodo.5914219',\n",
       "  'creator': 'Zloch, Matthäus',\n",
       "  'type': 'software'},\n",
       " {'record': '10.5281/zenodo.5914219',\n",
       "  'creator': 'Mühlbauer, Alexander',\n",
       "  'type': 'software'},\n",
       " {'record': '10.5281/zenodo.5914219',\n",
       "  'creator': 'Klas, Claus-Peter',\n",
       "  'type': 'software'}]"
      ]
     },
     "execution_count": 18,
     "metadata": {},
     "output_type": "execute_result"
    }
   ],
   "source": [
    "gesis_authors[:5]"
   ]
  },
  {
   "cell_type": "markdown",
   "metadata": {},
   "source": [
    "#### Analyze names\n",
    "\n",
    "Convert list of dictionaries into a data frame with _pandas_."
   ]
  },
  {
   "cell_type": "code",
   "execution_count": 19,
   "metadata": {},
   "outputs": [
    {
     "name": "stdout",
     "output_type": "stream",
     "text": [
      "                    record               creator          type\n",
      "0   10.5281/zenodo.5914219         Zhang, Yudong      software\n",
      "1   10.5281/zenodo.5914219          Baran, Erdal      software\n",
      "2   10.5281/zenodo.5914219       Zloch, Matthäus      software\n",
      "3   10.5281/zenodo.5914219  Mühlbauer, Alexander      software\n",
      "4   10.5281/zenodo.5914219     Klas, Claus-Peter      software\n",
      "..                     ...                   ...           ...\n",
      "70  10.5281/zenodo.3955711      Miller, Bernhard  presentation\n",
      "71   10.5281/zenodo.439699          Fabian Flöck       dataset\n",
      "72   10.5281/zenodo.439699         Kenan Erdogan       dataset\n",
      "73  10.5281/zenodo.3781700     Alexia Katsanidou  presentation\n",
      "74  10.5281/zenodo.3781700         Markus Quandt  presentation\n",
      "\n",
      "[75 rows x 3 columns]\n"
     ]
    }
   ],
   "source": [
    "import pandas as pd\n",
    "\n",
    "df = pd.DataFrame(gesis_authors)\n",
    "\n",
    "print(df)"
   ]
  },
  {
   "cell_type": "markdown",
   "metadata": {},
   "source": [
    "Determine the number of publications per GESIS author with _pandas_."
   ]
  },
  {
   "cell_type": "code",
   "execution_count": 20,
   "metadata": {},
   "outputs": [
    {
     "data": {
      "text/html": [
       "<div>\n",
       "<style scoped>\n",
       "    .dataframe tbody tr th:only-of-type {\n",
       "        vertical-align: middle;\n",
       "    }\n",
       "\n",
       "    .dataframe tbody tr th {\n",
       "        vertical-align: top;\n",
       "    }\n",
       "\n",
       "    .dataframe thead th {\n",
       "        text-align: right;\n",
       "    }\n",
       "</style>\n",
       "<table border=\"1\" class=\"dataframe\">\n",
       "  <thead>\n",
       "    <tr style=\"text-align: right;\">\n",
       "      <th></th>\n",
       "      <th>creator</th>\n",
       "      <th>Count</th>\n",
       "    </tr>\n",
       "  </thead>\n",
       "  <tbody>\n",
       "    <tr>\n",
       "      <th>19</th>\n",
       "      <td>Klas, Claus-Peter</td>\n",
       "      <td>6</td>\n",
       "    </tr>\n",
       "    <tr>\n",
       "      <th>15</th>\n",
       "      <td>Hopt, Oliver</td>\n",
       "      <td>5</td>\n",
       "    </tr>\n",
       "    <tr>\n",
       "      <th>45</th>\n",
       "      <td>Zenk-Möltgen, Wolfgang</td>\n",
       "      <td>4</td>\n",
       "    </tr>\n",
       "    <tr>\n",
       "      <th>30</th>\n",
       "      <td>Mühlbauer, Alexander</td>\n",
       "      <td>4</td>\n",
       "    </tr>\n",
       "    <tr>\n",
       "      <th>42</th>\n",
       "      <td>Weller, Katrin</td>\n",
       "      <td>3</td>\n",
       "    </tr>\n",
       "    <tr>\n",
       "      <th>0</th>\n",
       "      <td>Akdeniz, Esra</td>\n",
       "      <td>2</td>\n",
       "    </tr>\n",
       "    <tr>\n",
       "      <th>13</th>\n",
       "      <td>Geisler, Helena</td>\n",
       "      <td>2</td>\n",
       "    </tr>\n",
       "    <tr>\n",
       "      <th>40</th>\n",
       "      <td>Veronika Keck</td>\n",
       "      <td>2</td>\n",
       "    </tr>\n",
       "    <tr>\n",
       "      <th>39</th>\n",
       "      <td>Steinweg, Nina</td>\n",
       "      <td>2</td>\n",
       "    </tr>\n",
       "    <tr>\n",
       "      <th>20</th>\n",
       "      <td>Krämer, Thomas</td>\n",
       "      <td>2</td>\n",
       "    </tr>\n",
       "  </tbody>\n",
       "</table>\n",
       "</div>"
      ],
      "text/plain": [
       "                   creator  Count\n",
       "19       Klas, Claus-Peter      6\n",
       "15            Hopt, Oliver      5\n",
       "45  Zenk-Möltgen, Wolfgang      4\n",
       "30    Mühlbauer, Alexander      4\n",
       "42          Weller, Katrin      3\n",
       "0            Akdeniz, Esra      2\n",
       "13         Geisler, Helena      2\n",
       "40           Veronika Keck      2\n",
       "39          Steinweg, Nina      2\n",
       "20          Krämer, Thomas      2"
      ]
     },
     "execution_count": 20,
     "metadata": {},
     "output_type": "execute_result"
    }
   ],
   "source": [
    "(\n",
    "    df.groupby(\"creator\")\n",
    "    .size()\n",
    "    .reset_index(name=\"Count\")\n",
    "    .sort_values(by=\"Count\", ascending=False)\n",
    "    .head(10)\n",
    ")"
   ]
  },
  {
   "cell_type": "markdown",
   "metadata": {},
   "source": [
    "#### Visualize names\n",
    "\n",
    "Plot the number of publications per author with _altair_."
   ]
  },
  {
   "cell_type": "code",
   "execution_count": 21,
   "metadata": {},
   "outputs": [
    {
     "data": {
      "text/html": [
       "\n",
       "<style>\n",
       "  #altair-viz-680b6fa9a72142afae48dc3270574b82.vega-embed {\n",
       "    width: 100%;\n",
       "    display: flex;\n",
       "  }\n",
       "\n",
       "  #altair-viz-680b6fa9a72142afae48dc3270574b82.vega-embed details,\n",
       "  #altair-viz-680b6fa9a72142afae48dc3270574b82.vega-embed details summary {\n",
       "    position: relative;\n",
       "  }\n",
       "</style>\n",
       "<div id=\"altair-viz-680b6fa9a72142afae48dc3270574b82\"></div>\n",
       "<script type=\"text/javascript\">\n",
       "  var VEGA_DEBUG = (typeof VEGA_DEBUG == \"undefined\") ? {} : VEGA_DEBUG;\n",
       "  (function(spec, embedOpt){\n",
       "    let outputDiv = document.currentScript.previousElementSibling;\n",
       "    if (outputDiv.id !== \"altair-viz-680b6fa9a72142afae48dc3270574b82\") {\n",
       "      outputDiv = document.getElementById(\"altair-viz-680b6fa9a72142afae48dc3270574b82\");\n",
       "    }\n",
       "    const paths = {\n",
       "      \"vega\": \"https://cdn.jsdelivr.net/npm/vega@5?noext\",\n",
       "      \"vega-lib\": \"https://cdn.jsdelivr.net/npm/vega-lib?noext\",\n",
       "      \"vega-lite\": \"https://cdn.jsdelivr.net/npm/vega-lite@5.15.1?noext\",\n",
       "      \"vega-embed\": \"https://cdn.jsdelivr.net/npm/vega-embed@6?noext\",\n",
       "    };\n",
       "\n",
       "    function maybeLoadScript(lib, version) {\n",
       "      var key = `${lib.replace(\"-\", \"\")}_version`;\n",
       "      return (VEGA_DEBUG[key] == version) ?\n",
       "        Promise.resolve(paths[lib]) :\n",
       "        new Promise(function(resolve, reject) {\n",
       "          var s = document.createElement('script');\n",
       "          document.getElementsByTagName(\"head\")[0].appendChild(s);\n",
       "          s.async = true;\n",
       "          s.onload = () => {\n",
       "            VEGA_DEBUG[key] = version;\n",
       "            return resolve(paths[lib]);\n",
       "          };\n",
       "          s.onerror = () => reject(`Error loading script: ${paths[lib]}`);\n",
       "          s.src = paths[lib];\n",
       "        });\n",
       "    }\n",
       "\n",
       "    function showError(err) {\n",
       "      outputDiv.innerHTML = `<div class=\"error\" style=\"color:red;\">${err}</div>`;\n",
       "      throw err;\n",
       "    }\n",
       "\n",
       "    function displayChart(vegaEmbed) {\n",
       "      vegaEmbed(outputDiv, spec, embedOpt)\n",
       "        .catch(err => showError(`Javascript Error: ${err.message}<br>This usually means there's a typo in your chart specification. See the javascript console for the full traceback.`));\n",
       "    }\n",
       "\n",
       "    if(typeof define === \"function\" && define.amd) {\n",
       "      requirejs.config({paths});\n",
       "      require([\"vega-embed\"], displayChart, err => showError(`Error loading script: ${err.message}`));\n",
       "    } else {\n",
       "      maybeLoadScript(\"vega\", \"5\")\n",
       "        .then(() => maybeLoadScript(\"vega-lite\", \"5.15.1\"))\n",
       "        .then(() => maybeLoadScript(\"vega-embed\", \"6\"))\n",
       "        .catch(showError)\n",
       "        .then(() => displayChart(vegaEmbed));\n",
       "    }\n",
       "  })({\"config\": {\"view\": {\"continuousWidth\": 300, \"continuousHeight\": 300}}, \"data\": {\"name\": \"data-9708bd87c46a931d03ac3796c8613089\"}, \"mark\": {\"type\": \"bar\"}, \"encoding\": {\"color\": {\"field\": \"type\", \"type\": \"nominal\"}, \"x\": {\"aggregate\": \"count\", \"type\": \"quantitative\"}, \"y\": {\"field\": \"creator\", \"type\": \"nominal\"}}, \"$schema\": \"https://vega.github.io/schema/vega-lite/v5.15.1.json\", \"datasets\": {\"data-9708bd87c46a931d03ac3796c8613089\": [{\"record\": \"10.5281/zenodo.5914219\", \"creator\": \"Zhang, Yudong\", \"type\": \"software\"}, {\"record\": \"10.5281/zenodo.5914219\", \"creator\": \"Baran, Erdal\", \"type\": \"software\"}, {\"record\": \"10.5281/zenodo.5914219\", \"creator\": \"Zloch, Matth\\u00e4us\", \"type\": \"software\"}, {\"record\": \"10.5281/zenodo.5914219\", \"creator\": \"M\\u00fchlbauer, Alexander\", \"type\": \"software\"}, {\"record\": \"10.5281/zenodo.5914219\", \"creator\": \"Klas, Claus-Peter\", \"type\": \"software\"}, {\"record\": \"10.5281/zenodo.5914219\", \"creator\": \"Mutschke, Peter\", \"type\": \"software\"}, {\"record\": \"10.5281/zenodo.6630263\", \"creator\": \"Klas, Claus-Peter\", \"type\": \"presentation\"}, {\"record\": \"10.5281/zenodo.6630263\", \"creator\": \"Hopt, Oliver\", \"type\": \"presentation\"}, {\"record\": \"10.5281/zenodo.6630263\", \"creator\": \"Kr\\u00e4mer, Thomas\", \"type\": \"presentation\"}, {\"record\": \"10.5281/zenodo.6630263\", \"creator\": \"Nugraha, Sigit\", \"type\": \"presentation\"}, {\"record\": \"10.5281/zenodo.7220636\", \"creator\": \"Lipinsky, Anke\", \"type\": \"other\"}, {\"record\": \"10.5281/zenodo.7220636\", \"creator\": \"Schredl, Claudia\", \"type\": \"other\"}, {\"record\": \"10.5281/zenodo.7220636\", \"creator\": \"Baumann, Horst\", \"type\": \"other\"}, {\"record\": \"10.5281/zenodo.7220636\", \"creator\": \"Lomazzi, Vera\", \"type\": \"other\"}, {\"record\": \"10.5281/zenodo.7220636\", \"creator\": \"Freund, Frederike\", \"type\": \"other\"}, {\"record\": \"10.5281/zenodo.259554\", \"creator\": \"Hopt, Oliver\", \"type\": \"presentation\"}, {\"record\": \"10.5281/zenodo.259554\", \"creator\": \"Klas, Claus-Peter\", \"type\": \"presentation\"}, {\"record\": \"10.5281/zenodo.259554\", \"creator\": \"M\\u00fchlbauer, Alexander\", \"type\": \"presentation\"}, {\"record\": \"10.5281/zenodo.259554\", \"creator\": \"Zenk-M\\u00f6ltgen, Wolfgang\", \"type\": \"presentation\"}, {\"record\": \"10.5281/zenodo.7024958\", \"creator\": \"Geisler, Helena\", \"type\": \"other\"}, {\"record\": \"10.5281/zenodo.7024958\", \"creator\": \"L\\u00f6ther, Andrea\", \"type\": \"other\"}, {\"record\": \"10.5281/zenodo.7024958\", \"creator\": \"Steinweg, Nina\", \"type\": \"other\"}, {\"record\": \"10.5281/zenodo.7023258\", \"creator\": \"Geisler, Helena\", \"type\": \"other\"}, {\"record\": \"10.5281/zenodo.7023258\", \"creator\": \"L\\u00f6ther, Andrea\", \"type\": \"other\"}, {\"record\": \"10.5281/zenodo.7023258\", \"creator\": \"Steinweg, Nina\", \"type\": \"other\"}, {\"record\": \"10.5281/zenodo.1118382\", \"creator\": \"MahmoudHashemi, Azadeh\", \"type\": \"presentation\"}, {\"record\": \"10.5281/zenodo.1118382\", \"creator\": \"M\\u00fchlbauer, Alexander\", \"type\": \"presentation\"}, {\"record\": \"10.5281/zenodo.1118382\", \"creator\": \"Zenk-M\\u00f6ltgen, Wolfgang\", \"type\": \"presentation\"}, {\"record\": \"10.5281/zenodo.1118391\", \"creator\": \"Klas, Claus-Peter\", \"type\": \"presentation\"}, {\"record\": \"10.5281/zenodo.1118391\", \"creator\": \"Hopt, Oliver\", \"type\": \"presentation\"}, {\"record\": \"10.5281/zenodo.1118391\", \"creator\": \"M\\u00fchlbauer, Alexander\", \"type\": \"presentation\"}, {\"record\": \"10.5281/zenodo.5180976\", \"creator\": \"Veronika Keck\", \"type\": \"publication\"}, {\"record\": \"10.5281/zenodo.5180976\", \"creator\": \"Doroth\\u00e9e Behr\", \"type\": \"publication\"}, {\"record\": \"10.5281/zenodo.5180976\", \"creator\": \"Brita Dorer\", \"type\": \"publication\"}, {\"record\": \"10.5281/zenodo.259565\", \"creator\": \"M\\u00fcller, Stefan\", \"type\": \"presentation\"}, {\"record\": \"10.5281/zenodo.259565\", \"creator\": \"Zenk-M\\u00f6ltgen, Wolfgang\", \"type\": \"presentation\"}, {\"record\": \"10.5281/zenodo.259565\", \"creator\": \"Schweers, Stefan\", \"type\": \"presentation\"}, {\"record\": \"10.5281/zenodo.4621051\", \"creator\": \"Borschewski, Kerrin\", \"type\": \"publication\"}, {\"record\": \"10.5281/zenodo.4621051\", \"creator\": \"Akdeniz, Esra\", \"type\": \"publication\"}, {\"record\": \"10.5281/zenodo.4621051\", \"creator\": \"Piesch, Sophia\", \"type\": \"publication\"}, {\"record\": \"10.5281/zenodo.7143302\", \"creator\": \"Mayr, Philipp\", \"type\": \"presentation\"}, {\"record\": \"10.5281/zenodo.7143302\", \"creator\": \"Backes, Tobias\", \"type\": \"presentation\"}, {\"record\": \"10.5281/zenodo.7143302\", \"creator\": \"Shahid, Muhammad Ahsan\", \"type\": \"presentation\"}, {\"record\": \"10.5281/zenodo.4581806\", \"creator\": \"Veronika Keck\", \"type\": \"publication\"}, {\"record\": \"10.5281/zenodo.4581806\", \"creator\": \"Doroth\\u00e9e Behr\", \"type\": \"publication\"}, {\"record\": \"10.5281/zenodo.4581806\", \"creator\": \"Brita Dorer\", \"type\": \"publication\"}, {\"record\": \"10.5281/zenodo.7638506\", \"creator\": \"Esra Akdeniz\", \"type\": \"publication\"}, {\"record\": \"10.5281/zenodo.7638506\", \"creator\": \"Kerrin Borschewski\", \"type\": \"publication\"}, {\"record\": \"10.5281/zenodo.7638506\", \"creator\": \"Katrin Baum\", \"type\": \"publication\"}, {\"record\": \"10.5281/zenodo.7638506\", \"creator\": \"Libby Bishop\", \"type\": \"publication\"}, {\"record\": \"10.5281/zenodo.8386418\", \"creator\": \"Fr\\u00f6hling, Leon\", \"type\": \"publication\"}, {\"record\": \"10.5281/zenodo.8386418\", \"creator\": \"Sen, Indira\", \"type\": \"publication\"}, {\"record\": \"10.5281/zenodo.8386418\", \"creator\": \"Soldner, Felix\", \"type\": \"publication\"}, {\"record\": \"10.5281/zenodo.8386418\", \"creator\": \"Zens, Maria\", \"type\": \"publication\"}, {\"record\": \"10.5281/zenodo.8386418\", \"creator\": \"Weller, Katrin\", \"type\": \"publication\"}, {\"record\": \"10.5281/zenodo.1118384\", \"creator\": \"Klas, Claus-Peter\", \"type\": \"presentation\"}, {\"record\": \"10.5281/zenodo.1118384\", \"creator\": \"Hopt, Oliver\", \"type\": \"presentation\"}, {\"record\": \"10.5281/zenodo.3582020\", \"creator\": \"Akdeniz, Esra\", \"type\": \"presentation\"}, {\"record\": \"10.5281/zenodo.3582020\", \"creator\": \"Kr\\u00e4mer, Thomas\", \"type\": \"presentation\"}, {\"record\": \"10.5281/zenodo.3597408\", \"creator\": \"Klas, Claus-Peter\", \"type\": \"presentation\"}, {\"record\": \"10.5281/zenodo.3597408\", \"creator\": \"Hopt, Oliver\", \"type\": \"presentation\"}, {\"record\": \"10.5281/zenodo.4518893\", \"creator\": \"Weller, Katrin\", \"type\": \"presentation\"}, {\"record\": \"10.5281/zenodo.4518893\", \"creator\": \"Watteler, Oliver\", \"type\": \"presentation\"}, {\"record\": \"10.5281/zenodo.7464990\", \"creator\": \"Bishop, Elizabeth\", \"type\": \"presentation\"}, {\"record\": \"10.5281/zenodo.7464990\", \"creator\": \"Zenk-M\\u00f6ltgen, Wolfgang\", \"type\": \"presentation\"}, {\"record\": \"10.5281/zenodo.3620845\", \"creator\": \"Borschewski, Kerrin\", \"type\": \"presentation\"}, {\"record\": \"10.5281/zenodo.3620845\", \"creator\": \"Hausstein, Brigitte\", \"type\": \"presentation\"}, {\"record\": \"10.5281/zenodo.2660928\", \"creator\": \"Weller, Katrin\", \"type\": \"poster\"}, {\"record\": \"10.5281/zenodo.2660928\", \"creator\": \"Zagovora, Olya\", \"type\": \"poster\"}, {\"record\": \"10.5281/zenodo.3955711\", \"creator\": \"Wolf, Christof\", \"type\": \"presentation\"}, {\"record\": \"10.5281/zenodo.3955711\", \"creator\": \"Miller, Bernhard\", \"type\": \"presentation\"}, {\"record\": \"10.5281/zenodo.439699\", \"creator\": \"Fabian Fl\\u00f6ck\", \"type\": \"dataset\"}, {\"record\": \"10.5281/zenodo.439699\", \"creator\": \"Kenan Erdogan\", \"type\": \"dataset\"}, {\"record\": \"10.5281/zenodo.3781700\", \"creator\": \"Alexia Katsanidou\", \"type\": \"presentation\"}, {\"record\": \"10.5281/zenodo.3781700\", \"creator\": \"Markus Quandt\", \"type\": \"presentation\"}]}}, {\"mode\": \"vega-lite\"});\n",
       "</script>"
      ],
      "text/plain": [
       "alt.Chart(...)"
      ]
     },
     "execution_count": 21,
     "metadata": {},
     "output_type": "execute_result"
    }
   ],
   "source": [
    "import altair as alt\n",
    "\n",
    "(alt.Chart(df).mark_bar().encode(x=\"count():Q\", y=\"creator:N\", color=\"type\"))"
   ]
  },
  {
   "cell_type": "markdown",
   "metadata": {},
   "source": [
    "## Zenodo metadata in GitHub\n"
   ]
  },
  {
   "cell_type": "markdown",
   "metadata": {},
   "source": [
    "Zenodo imports metadata from a GitHub repository. However, some information needs to be added manually to have a full metadata record and a complete citation reference (e.g. authors full names and affiliations)"
   ]
  },
  {
   "cell_type": "markdown",
   "metadata": {},
   "source": [
    "### Get metadata\n",
    "\n",
    "Here is the metadata of a record that was completed on the Zenodo page. We provide a json dump."
   ]
  },
  {
   "cell_type": "code",
   "execution_count": 22,
   "metadata": {},
   "outputs": [
    {
     "name": "stdout",
     "output_type": "stream",
     "text": [
      "{\n",
      "  \"title\": \"Harmonizing and linking party information: The ESS as an example of complex data linking\",\n",
      "  \"doi\": \"10.5281/zenodo.8421233\",\n",
      "  \"publication_date\": \"2023-10-09\",\n",
      "  \"description\": \"<p>Combining party information from multiple sources is a work-intensive challenge for quantitative studies of political representation. Differences in the definition of political parties and difficult data structures can make linking party information across datasets challenging. The European Social Survey (ESS) is an example of a prominent data source in political science research whose party information is particularly difficult to work with. Here, we demonstrate how Party Facts, an online infrastructure for combining party information, can be used to link different social science datasets and assess the performance of the linking process. In this article, we discuss the difficulties of complex linking tasks and show how the ESS can be combined with other sources. We have updated the database to include appropriate links for the recent Round 10 of the ESS and provide two examples of complex linking by combining the ESS with the Chapel Hill Expert Survey (CHES) and with the Parliament and Government Database (ParlGov).</p>\",\n",
      "  \"access_right\": \"open\",\n",
      "  \"creators\": [\n",
      "    {\n",
      "      \"name\": \"Paul Bederke\",\n",
      "      \"affiliation\": \"University of Konstanz, Germany\",\n",
      "      \"orcid\": \"0000-0001-7555-8656\"\n",
      "    },\n",
      "    {\n",
      "      \"name\": \"Holger D\\u00f6ring\",\n",
      "      \"affiliation\": \"GESIS \\u2013 Leibniz Institute for the Social Sciences, Germany\",\n",
      "      \"orcid\": \"0000-0002-6616-8805\"\n",
      "    }\n",
      "  ],\n",
      "  \"keywords\": [\n",
      "    \"comparative politics\",\n",
      "    \"data management\",\n",
      "    \"survey data\",\n",
      "    \"voting behavior\",\n",
      "    \"expert surveys\",\n",
      "    \"validation\"\n",
      "  ],\n",
      "  \"related_identifiers\": [\n",
      "    {\n",
      "      \"identifier\": \"https://github.com/hdigital/ess-linking/tree/v0.1\",\n",
      "      \"relation\": \"isSupplementTo\",\n",
      "      \"scheme\": \"url\"\n",
      "    }\n",
      "  ],\n",
      "  \"version\": \"v0.1\",\n",
      "  \"resource_type\": {\n",
      "    \"title\": \"Software\",\n",
      "    \"type\": \"software\"\n",
      "  },\n",
      "  \"license\": {\n",
      "    \"id\": \"other-open\"\n",
      "  },\n",
      "  \"relations\": {\n",
      "    \"version\": [\n",
      "      {\n",
      "        \"index\": 0,\n",
      "        \"is_last\": true,\n",
      "        \"parent\": {\n",
      "          \"pid_type\": \"recid\",\n",
      "          \"pid_value\": \"8421232\"\n",
      "        }\n",
      "      }\n",
      "    ]\n",
      "  }\n",
      "}\n"
     ]
    }
   ],
   "source": [
    "import json\n",
    "\n",
    "r = requests.get(\"https://zenodo.org/api/records/8421233\")\n",
    "\n",
    "metadata = r.json()[\"metadata\"]\n",
    "\n",
    "print(json.dumps(metadata, indent=2))"
   ]
  },
  {
   "cell_type": "markdown",
   "metadata": {},
   "source": [
    "### Specify metadata\n",
    "\n",
    "You can also specify Zenodo metadata in a `.zenodo.json` file in your GitHub repository.\n",
    "\n",
    "<https://developers.zenodo.org/#github>\n",
    "\n",
    "This allows you to almost fully automate the data archiving without adding information manually in Zenodo.\n",
    "\n",
    "Here is a version of the `.zenodo.json` we created. It includes only the metadata that Zenodo can not extract from other GitHub information."
   ]
  },
  {
   "cell_type": "code",
   "execution_count": 23,
   "metadata": {},
   "outputs": [],
   "source": [
    "zenodo_json = \"\"\"\n",
    "{\n",
    "  \"title\": \"Harmonizing and linking party information: The ESS as an example of complex data linking\",\n",
    "  \"description\": \"R code and notebooks with examples for linking party data in the European Social Survey (ESS)\",\n",
    "  \"creators\": [\n",
    "    {\n",
    "      \"affiliation\": \"University of Konstanz, Germany\",\n",
    "      \"name\": \"Bederke, Paul\",\n",
    "      \"orcid\": \"0000-0001-7555-8656\"\n",
    "    },\n",
    "    {\n",
    "      \"affiliation\": \"GESIS – Leibniz Institute for the Social Sciences, Germany\",\n",
    "      \"name\": \"Döring, Holger\",\n",
    "      \"orcid\": \"0000-0002-6616-8805\"\n",
    "    }\n",
    "  ],\n",
    "  \"keywords\": [\n",
    "    \"comparative politics\",\n",
    "    \"data management\",\n",
    "    \"survey data\",\n",
    "    \"voting behavior\",\n",
    "    \"expert surveys\",\n",
    "    \"validation\"\n",
    "  ],\n",
    "  \"license\": {\n",
    "    \"id\": \"mit\"\n",
    "  }\n",
    "}\n",
    "\"\"\""
   ]
  },
  {
   "cell_type": "markdown",
   "metadata": {},
   "source": [
    "Let's check if the json is valid and can be loaded in Python."
   ]
  },
  {
   "cell_type": "code",
   "execution_count": 24,
   "metadata": {},
   "outputs": [
    {
     "data": {
      "text/plain": [
       "5"
      ]
     },
     "execution_count": 24,
     "metadata": {},
     "output_type": "execute_result"
    }
   ],
   "source": [
    "zenodo_dict = json.loads(zenodo_json)\n",
    "\n",
    "len(zenodo_dict)"
   ]
  },
  {
   "cell_type": "markdown",
   "metadata": {},
   "source": [
    "### Get license id\n",
    "\n",
    "This is how we found the license _id_ -- see <https://developers.zenodo.org/?python#licenses>"
   ]
  },
  {
   "cell_type": "code",
   "execution_count": 25,
   "metadata": {},
   "outputs": [
    {
     "data": {
      "text/plain": [
       "{'hits': {'hits': [{'id': 'mit',\n",
       "    'created': '2023-10-12T17:24:20.716475+00:00',\n",
       "    'updated': '2023-10-12T17:24:20.758570+00:00',\n",
       "    'links': {'self': 'https://zenodo.org/api/vocabularies/licenses/mit'},\n",
       "    'revision_id': 1,\n",
       "    'title': {'en': 'MIT License'},\n",
       "    'description': {'en': 'A short and simple permissive license with conditions only requiring preservation of copyright and license notices. Licensed works, modifications, and larger works may be distributed under different terms and without source code.'},\n",
       "    'icon': '',\n",
       "    'props': {'url': 'https://opensource.org/licenses/MIT',\n",
       "     'scheme': 'spdx',\n",
       "     'osi_approved': 'y'},\n",
       "    'tags': ['recommended', 'all', 'software'],\n",
       "    'type': 'licenses'}],\n",
       "  'total': 1},\n",
       " 'sortBy': 'bestmatch',\n",
       " 'links': {'self': 'https://zenodo.org/api/vocabularies/licenses?page=1&q=id%3Amit&size=25&sort=bestmatch'}}"
      ]
     },
     "execution_count": 25,
     "metadata": {},
     "output_type": "execute_result"
    }
   ],
   "source": [
    "response = requests.get(\"https://zenodo.org/api/licenses\", params={\"q\": \"id:mit\"})\n",
    "response.json()"
   ]
  },
  {
   "cell_type": "markdown",
   "metadata": {},
   "source": [
    "## Learning Python\n",
    "\n",
    "### Background\n",
    "\n",
    "Many of the Python approaches used in this notebook are covered in [Eric Matthes (2022): Python Crash Course](https://nostarch.com/python-crash-course-3rd-edition).\n",
    "\n",
    "[Chapter 17](https://github.com/ehmatthes/pcc_3e/tree/main/chapter_17) covers _Working with APIs_. This is the majority of tasks done in this notebook as well.\n",
    "\n",
    "[Chapter 15](https://github.com/ehmatthes/pcc_3e/tree/main/chapter_17) on _Generating Data_ provides examples for creating figures with [matplotlib](https://matplotlib.org/). In the notebook, we use [Vega-Altair](https://altair-viz.github.io/) which is based on a _grammar of graphis_ and similiar to the prominent R library [ggplot2](https://ggplot2.tidyverse.org/index.html).\n",
    "\n",
    "The book does not cover [pandas](https://pandas.pydata.org/), the major Python library for data analysis. Here, we use _pandas_ to convert the API reponse with a list of dictionaries into a data frame.\n",
    "\n",
    "We used [ChatGPT](https://chat.openai.com/) regularly when creating the notebook to get code examples with parameters.\n",
    "\n",
    "Finally, a couple of dead ends and unsuccessfull coding attempts did not make it into the notebook.\n"
   ]
  },
  {
   "cell_type": "markdown",
   "metadata": {},
   "source": [
    "### Book reference\n",
    "\n",
    "As always in this notebook, there is an API to access metadata. Here, we use the [Open Library Books API](https://openlibrary.org/dev/docs/api/books) to get the metadata with the book's ISBN."
   ]
  },
  {
   "cell_type": "code",
   "execution_count": 32,
   "metadata": {},
   "outputs": [
    {
     "data": {
      "text/plain": [
       "{'type': {'key': '/type/edition'},\n",
       " 'authors': [{'key': '/authors/OL7634726A'}],\n",
       " 'isbn_13': ['9781718502703'],\n",
       " 'languages': [{'key': '/languages/eng'}],\n",
       " 'pagination': '544',\n",
       " 'publish_date': '2022',\n",
       " 'publishers': ['No Starch Press, Incorporated'],\n",
       " 'source_records': ['bwb:9781718502703', 'amazon:1718502702'],\n",
       " 'title': 'Python Crash Course, 3rd Edition',\n",
       " 'weight': '0.369',\n",
       " 'works': [{'key': '/works/OL28018702W'}],\n",
       " 'key': '/books/OL38327872M',\n",
       " 'latest_revision': 2,\n",
       " 'revision': 2,\n",
       " 'created': {'type': '/type/datetime', 'value': '2022-06-18T00:55:01.629742'},\n",
       " 'last_modified': {'type': '/type/datetime',\n",
       "  'value': '2022-11-15T08:14:57.012982'}}"
      ]
     },
     "execution_count": 32,
     "metadata": {},
     "output_type": "execute_result"
    }
   ],
   "source": [
    "r = requests.get(\"https://openlibrary.org/isbn/9781718502703.json\")\n",
    "book = r.json()\n",
    "\n",
    "book"
   ]
  },
  {
   "cell_type": "code",
   "execution_count": 35,
   "metadata": {},
   "outputs": [
    {
     "data": {
      "text/plain": [
       "'https://openlibrary.org//authors/OL7634726A.json'"
      ]
     },
     "execution_count": 35,
     "metadata": {},
     "output_type": "execute_result"
    }
   ],
   "source": [
    "url = f\"https://openlibrary.org/{book['authors'][0]['key']}.json\"\n",
    "url"
   ]
  },
  {
   "cell_type": "code",
   "execution_count": 36,
   "metadata": {},
   "outputs": [
    {
     "data": {
      "text/plain": [
       "{'name': 'Eric Matthes',\n",
       " 'created': {'type': '/type/datetime', 'value': '2019-10-04T05:26:31.796765'},\n",
       " 'last_modified': {'type': '/type/datetime',\n",
       "  'value': '2019-10-04T05:26:31.796765'},\n",
       " 'latest_revision': 1,\n",
       " 'key': '/authors/OL7634726A',\n",
       " 'type': {'key': '/type/author'},\n",
       " 'revision': 1}"
      ]
     },
     "execution_count": 36,
     "metadata": {},
     "output_type": "execute_result"
    }
   ],
   "source": [
    "r = requests.get(url)\n",
    "r.json()"
   ]
  },
  {
   "cell_type": "code",
   "execution_count": null,
   "metadata": {},
   "outputs": [],
   "source": []
  }
 ],
 "metadata": {
  "kernelspec": {
   "display_name": "python3",
   "language": "python",
   "name": "python3"
  },
  "language_info": {
   "codemirror_mode": {
    "name": "ipython",
    "version": 3
   },
   "file_extension": ".py",
   "mimetype": "text/x-python",
   "name": "python",
   "nbconvert_exporter": "python",
   "pygments_lexer": "ipython3",
   "version": "3.11.6"
  }
 },
 "nbformat": 4,
 "nbformat_minor": 4
}
